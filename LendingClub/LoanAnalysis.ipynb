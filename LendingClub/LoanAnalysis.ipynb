{
 "cells": [
  {
   "cell_type": "code",
   "execution_count": 1,
   "metadata": {},
   "outputs": [],
   "source": [
    "import pandas as pd\n",
    "import numpy as np\n",
    "import matplotlib.pyplot as plt\n",
    "from tqdm import tqdm"
   ]
  },
  {
   "cell_type": "markdown",
   "metadata": {},
   "source": [
    "# Part 1: Data Exploration and Evaluation"
   ]
  },
  {
   "cell_type": "markdown",
   "metadata": {},
   "source": [
    "### Loading "
   ]
  },
  {
   "cell_type": "code",
   "execution_count": 2,
   "metadata": {},
   "outputs": [],
   "source": [
    "raw_data = pd.read_csv(\"loan.csv\",  usecols = ['loan_amnt',\n",
    "                                                'funded_amnt', \n",
    "                                                'term', \n",
    "                                                'int_rate', \n",
    "                                                'grade', \n",
    "                                                'annual_inc', \n",
    "                                                'issue_d', \n",
    "                                                'dti', \n",
    "                                                'revol_bal', \n",
    "                                                'total_pymnt', \n",
    "                                                'loan_status'])\n",
    "data = raw_data.copy()"
   ]
  },
  {
   "cell_type": "markdown",
   "metadata": {},
   "source": [
    "### Cleaning and Aggregation"
   ]
  },
  {
   "cell_type": "markdown",
   "metadata": {},
   "source": [
    "1. As dti is a ratio of annual_inc, and as anual_inc can sometimes be zero (apparently without violating the credit policy), removing the income ratio from the dti column serves to reduce any potentially spurious correlation, while removing the division-by-zero issue with the dti column.<sup><a href=\"#1\" name=\"back1\">1</a></sup>\n",
    "2. I will replace the \"loan_amnt\" column with a \"reduced_by\" column. This will reduce the possibility that multicollinearity will be an issue in the regression,<sup><a href=\"#2\" name=\"back2\">2</a></sup> while retaining all initial information."
   ]
  },
  {
   "cell_type": "code",
   "execution_count": 3,
   "metadata": {},
   "outputs": [],
   "source": [
    "data[\"dti\"] = data[\"dti\"]*data[\"annual_inc\"]\n",
    "data[\"reduced_by\"] = data[\"loan_amnt\"] - data[\"funded_amnt\"]\n",
    "data = data.drop(\"loan_amnt\",axis=1)\n",
    "data[\"issue_d\"] = pd.to_datetime(raw_data[\"issue_d\"]) #Standard Conversion to datetime type"
   ]
  },
  {
   "cell_type": "markdown",
   "metadata": {},
   "source": [
    "### Assumptions made to handle null variables and outliers"
   ]
  },
  {
   "cell_type": "markdown",
   "metadata": {},
   "source": [
    "1. Loans that \"Do not meet the credit policy\" will not help us understand the characteristics of loans we make with the credit policy. Additionally, some have issues, like missing income values.<sup><a href=\"#3\" name=\"back3\">3</a></sup> Thus, I will exclude these loans from my analysis.\n",
    "2. The \"loan_status\" column will be taken at face value, though there are several hundred loans which are marked as \"fully paid\", yet have a total_pymnt of less than the principle.<sup><a href=\"#4\" name=\"back4\">4</a></sup> I err on the side of the \"loan_status\" indicator, which might factor in circumstances not represented in the data. However I'm curious about this inconsistency. In a business setting, I would certainly follow up with questions about this.\n",
    "3. Extremely large annual incomes (and revolving balances) are not errors of some kind, but represent a small subset of (wealthy) customers.<sup><a href=\"#5\" name=\"back5\">5</a></sup>"
   ]
  },
  {
   "cell_type": "code",
   "execution_count": 4,
   "metadata": {},
   "outputs": [],
   "source": [
    "data = data.loc[~(data[\"loan_status\"] == 'Does not meet the credit policy. Status:Fully Paid')]\n",
    "data = data.loc[~(data[\"loan_status\"] == 'Does not meet the credit policy. Status:Charged Off')]"
   ]
  },
  {
   "cell_type": "markdown",
   "metadata": {},
   "source": [
    "### Description of the feature distributions"
   ]
  },
  {
   "cell_type": "markdown",
   "metadata": {},
   "source": [
    "1. **funded_amnt:** Characterized by several extremely popular loan amounts ($\\$10,000$, $\\$20,000$, $\\$35,000$), with a maximum value set at $\\$35,000$. Low value loans are more common than high value, with an average of about $\\$15,000$.<sup><a href=\"#6\" name=\"back6\">6</a></sup> **loan_amnt** is much the same, except occasionally higher than funded amount, in circumstances where a loan was given below the requested amount.<sup><a href=\"#7\" name=\"back7\">7</a></sup>\n",
    "2. **term:** There are a little over twice as many more 36 month loans than 60 month loans in the entire dataset.<sup><a href=\"#8\" name=\"back8\">8</a></sup>\n",
    "3. **int_rate:** Like the funded amount, this value is also characterized by some popular amounts. Varies between 5% and 30%, with most values falling bellow 20%, and an average of 13.2%.<sup><a href=\"#9\" name=\"back9\">9</a></sup>\n",
    "4. **grade:** Seems to be approximately normal, with F and G grades being fairly rare, and B and C grades being the most common. It's almost too normal, which suggests to me that it may have been manufactured post-hoc.<sup><a href=\"#10\" name=\"back10\">10</a></sup>\n",
    "5. **annual_inc:** Follows a lognormal distribution, which is to be expected generally from income data. <sup><a href=\"#11\" name=\"back11\">11</a></sup>\n",
    "6. **issue_d:** The data shows a clear exponential uptick in loan origination year on year, for the entire window of analysis. The month of origination is fairly uniform overall, though in recent year variance month to month has increased quite a bit. <sup><a href=\"#12\" name=\"back12\">12</a></sup>\n",
    "7. **loan_status:** Most of the loans are current. Current loans and fully paid loans make up the vast majority of cases. There are a few loans with uncommon statuses. <sup><a href=\"#13\" name=\"back13\">13</a></sup>\n",
    "8. **dti:** Follows a lognormal distribution, with outliers at the high end. Once corrected by multiplying by income, a few remaining outliers at zero make sense, probably indicating borrowers with no other debts.<sup><a href=\"#14\" name=\"back14\">14</a></sup>\n",
    "9. **revol_bal:** Follows a lognormal distribution, with a few outliers at zero. These represent folks without revolving balances, which makes sense.<sup><a href=\"#15\" name=\"back15\">15</a></sup>\n",
    "10. **total_pymnt:** An exponentially diminishing distribution that represents that a large number of loans are still in repayment. All payment of course starts at zero and progresses to the loan amount.<sup><a href=\"#16\" name=\"back16\">16</a></sup>\n",
    "11. **reduced_by:** 99% of loans are not reduced. Of those that are, most are reduced between 5 and 10 thousand dollars.<sup><a href=\"#17\" name=\"back17\">17</a></sup>"
   ]
  },
  {
   "cell_type": "markdown",
   "metadata": {},
   "source": [
    "### Two data visualizations and two summary statistics that support these findings"
   ]
  },
  {
   "cell_type": "markdown",
   "metadata": {},
   "source": [
    "**Distribution of Funded Amount**"
   ]
  },
  {
   "cell_type": "code",
   "execution_count": 5,
   "metadata": {
    "scrolled": true
   },
   "outputs": [
    {
     "data": {
      "image/png": "[encoded data removed]",
      "text/plain": [
       "<Figure size 432x288 with 1 Axes>"
      ]
     },
     "metadata": {
      "needs_background": "light"
     },
     "output_type": "display_data"
    }
   ],
   "source": [
    "ax = (raw_data['funded_amnt'] % 1000).plot(kind=\"hist\", density=True);\n",
    "ax.set_title(\"Distribution of funded_amnt modulo 1000\");\n",
    "ax.set_xlabel(\"funded_amnt % 1000\");"
   ]
  },
  {
   "cell_type": "markdown",
   "metadata": {},
   "source": [
    "This chart illustrates that funded amount is almost always a multiple of $\\$1000$, indicating that the variable is not truly continuous in practice."
   ]
  },
  {
   "cell_type": "markdown",
   "metadata": {},
   "source": [
    "**Date of Origination**"
   ]
  },
  {
   "cell_type": "code",
   "execution_count": 6,
   "metadata": {
    "scrolled": true
   },
   "outputs": [
    {
     "data": {
      "image/png": "[encoded data removed]",
      "text/plain": [
       "<Figure size 432x288 with 1 Axes>"
      ]
     },
     "metadata": {
      "needs_background": "light"
     },
     "output_type": "display_data"
    }
   ],
   "source": [
    "dates = pd.to_datetime(raw_data[\"issue_d\"]) #Standard Conversion to datetime type\n",
    "ax = dates.value_counts().sort_index().plot(kind=\"bar\");\n",
    "ax.set_xticklabels([str(int(i/12)) if i % 12 == 0 else \"\" for i in range(2007*12,2016*12+1)]);\n",
    "ax.set_title(\"Loan Origination by Month\");\n",
    "ax.set_ylabel(\"Number of Loans\");\n",
    "ax.set_xlabel(\"Year\");"
   ]
  },
  {
   "cell_type": "markdown",
   "metadata": {},
   "source": [
    "This chart illustrates that loan origination has increased exponentially since 2007, while variance has also increased considerably."
   ]
  },
  {
   "cell_type": "markdown",
   "metadata": {},
   "source": [
    "**Distribution of Total Payment**"
   ]
  },
  {
   "cell_type": "code",
   "execution_count": 7,
   "metadata": {},
   "outputs": [
    {
     "data": {
      "text/plain": [
       "8.47"
      ]
     },
     "execution_count": 7,
     "metadata": {},
     "output_type": "execute_result"
    }
   ],
   "source": [
    "round(100*np.median(raw_data[\"total_pymnt\"])/np.max(raw_data[\"total_pymnt\"]),2)"
   ]
  },
  {
   "cell_type": "markdown",
   "metadata": {},
   "source": [
    "The median is only 8% of the max value for the total_pymnt column, which illustrates the frontloaded-ness of the distribution of total payment."
   ]
  },
  {
   "cell_type": "markdown",
   "metadata": {},
   "source": [
    "**Distribution of Loan Status**"
   ]
  },
  {
   "cell_type": "code",
   "execution_count": 8,
   "metadata": {},
   "outputs": [
    {
     "data": {
      "text/plain": [
       "91.22"
      ]
     },
     "execution_count": 8,
     "metadata": {},
     "output_type": "execute_result"
    }
   ],
   "source": [
    "round(100*sum(np.logical_or(raw_data[\"loan_status\"] == \"Current\" , \n",
    "                            raw_data[\"loan_status\"] == \"Fully Paid\"))/len(raw_data),2)"
   ]
  },
  {
   "cell_type": "markdown",
   "metadata": {},
   "source": [
    "Loans which are either current or fully paid make up 91% of the total number, the vast majority of cases."
   ]
  },
  {
   "cell_type": "markdown",
   "metadata": {},
   "source": [
    "### Assumption of a 36 month investment period for each loan"
   ]
  },
  {
   "cell_type": "markdown",
   "metadata": {},
   "source": [
    "There are two loan terms in this data set. 36 month and 60 month loans. I will investigate only the loans with a term of 36 months."
   ]
  },
  {
   "cell_type": "code",
   "execution_count": 9,
   "metadata": {},
   "outputs": [],
   "source": [
    "data = data.loc[data[\"term\"] == \" 36 months\"]\n",
    "data = data.drop(\"term\", axis=1)"
   ]
  },
  {
   "cell_type": "markdown",
   "metadata": {},
   "source": [
    "### Exclusion of loans with less than 36 months of data available"
   ]
  },
  {
   "cell_type": "markdown",
   "metadata": {},
   "source": [
    "We have data up to but not including January 1, 2016. Thus, all loans originated before January 1, 2013 should have 36  months of data available. Notably, this reduces the size of our data set by a factor of 10.<sup><a href=\"#18\" name=\"back18\">18</a></sup>"
   ]
  },
  {
   "cell_type": "code",
   "execution_count": 10,
   "metadata": {},
   "outputs": [],
   "source": [
    "data = data.loc[data[\"issue_d\"] <  pd.to_datetime(\"01/01/2013\")]\n",
    "data = data.reset_index().drop(\"index\",axis=1) #reindexing"
   ]
  },
  {
   "cell_type": "markdown",
   "metadata": {},
   "source": [
    "### What percentage of loans have been fully paid?"
   ]
  },
  {
   "cell_type": "markdown",
   "metadata": {},
   "source": [
    "Per my discussion above, I will be taking the loan status column at face value. "
   ]
  },
  {
   "cell_type": "code",
   "execution_count": 11,
   "metadata": {},
   "outputs": [
    {
     "data": {
      "text/plain": [
       "87.31"
      ]
     },
     "execution_count": 11,
     "metadata": {},
     "output_type": "execute_result"
    }
   ],
   "source": [
    "round(100*sum(data[\"loan_status\"] == \"Fully Paid\")/len(data),2)"
   ]
  },
  {
   "cell_type": "markdown",
   "metadata": {},
   "source": [
    "In this data 87.31% of the loans have been fully paid"
   ]
  },
  {
   "cell_type": "markdown",
   "metadata": {},
   "source": [
    "### When bucketed by year of origination and grade, which cohort has the highest rate of defaults?"
   ]
  },
  {
   "cell_type": "code",
   "execution_count": 12,
   "metadata": {},
   "outputs": [],
   "source": [
    "data[\"defaulted\"] = (data[\"loan_status\"] != \"Fully Paid\")"
   ]
  },
  {
   "cell_type": "code",
   "execution_count": 13,
   "metadata": {},
   "outputs": [
    {
     "data": {
      "text/plain": [
       "('G', 2008)"
      ]
     },
     "execution_count": 13,
     "metadata": {},
     "output_type": "execute_result"
    }
   ],
   "source": [
    "temp = data[[\"grade\",\"issue_d\",\"defaulted\"]].copy()\n",
    "temp[\"year\"] = temp[\"issue_d\"].dt.year\n",
    "temp = temp.drop(\"issue_d\", axis=1)\n",
    "(temp.groupby([\"grade\",\"year\"])[\"defaulted\"].sum()/temp.groupby([\"grade\",\"year\"])[\"defaulted\"].count()).idxmax()"
   ]
  },
  {
   "cell_type": "markdown",
   "metadata": {},
   "source": [
    "The cohort of \"G\" rated loans from 2008 has the highest rate of defaults, (50%), though there are only 4 loans in that bucket.<sup><a href=\"#20\" name=\"back20\">20</a></sup>"
   ]
  },
  {
   "cell_type": "markdown",
   "metadata": {},
   "source": [
    "### When bucketed by year of origination and grade, what annualized rate of return have these loans generated on average?"
   ]
  },
  {
   "cell_type": "markdown",
   "metadata": {},
   "source": [
    "I'll use the suggested approximation:"
   ]
  },
  {
   "cell_type": "markdown",
   "metadata": {},
   "source": [
    "$$\\textrm{Annualized rate of return} =\\left(\\frac{\\textrm{total_pymnt}}{\\textrm{funded_amnt}}\\right)^\\frac{1}{3} - 1$$"
   ]
  },
  {
   "cell_type": "code",
   "execution_count": 14,
   "metadata": {},
   "outputs": [],
   "source": [
    "annualized_ror = lambda total_pymnt,funded_amnt : ((total_pymnt/funded_amnt)**(1/3)) -1"
   ]
  },
  {
   "cell_type": "code",
   "execution_count": 15,
   "metadata": {},
   "outputs": [],
   "source": [
    "sumarry = {}\n",
    "for g in set(data[\"grade\"]):\n",
    "    sumarry[g] = {}\n",
    "    for yr in set(data[\"issue_d\"].dt.year):\n",
    "        tp = data[np.logical_and(data[\"grade\"] == g, data[\"issue_d\"].dt.year == yr)][\"total_pymnt\"]\n",
    "        fa = data[np.logical_and(data[\"grade\"] == g, data[\"issue_d\"].dt.year == yr)][\"funded_amnt\"]\n",
    "        if len(tp) > 0:\n",
    "            sumarry[g][yr] =  round(100*np.mean(annualized_ror(tp,fa)),2).astype(str)\n",
    "        else:\n",
    "            sumarry[g][yr] = \"N/A\"\n",
    "        "
   ]
  },
  {
   "cell_type": "code",
   "execution_count": 16,
   "metadata": {},
   "outputs": [
    {
     "data": {
      "text/html": [
       "<style  type=\"text/css\" >\n",
       "</style><table id=\"T_5366d48a_0e96_11eb_8387_985aeb8c3d36\" ><caption>Average Annualized Rate of Return by Year of Origination, Grade</caption><thead>    <tr>        <th class=\"blank level0\" ></th>        <th class=\"col_heading level0 col0\" >A</th>        <th class=\"col_heading level0 col1\" >B</th>        <th class=\"col_heading level0 col2\" >C</th>        <th class=\"col_heading level0 col3\" >D</th>        <th class=\"col_heading level0 col4\" >E</th>        <th class=\"col_heading level0 col5\" >F</th>        <th class=\"col_heading level0 col6\" >G</th>    </tr></thead><tbody>\n",
       "                <tr>\n",
       "                        <th id=\"T_5366d48a_0e96_11eb_8387_985aeb8c3d36level0_row0\" class=\"row_heading level0 row0\" >2007</th>\n",
       "                        <td id=\"T_5366d48a_0e96_11eb_8387_985aeb8c3d36row0_col0\" class=\"data row0 col0\" >2.72</td>\n",
       "                        <td id=\"T_5366d48a_0e96_11eb_8387_985aeb8c3d36row0_col1\" class=\"data row0 col1\" >1.23</td>\n",
       "                        <td id=\"T_5366d48a_0e96_11eb_8387_985aeb8c3d36row0_col2\" class=\"data row0 col2\" >1.22</td>\n",
       "                        <td id=\"T_5366d48a_0e96_11eb_8387_985aeb8c3d36row0_col3\" class=\"data row0 col3\" >-2.32</td>\n",
       "                        <td id=\"T_5366d48a_0e96_11eb_8387_985aeb8c3d36row0_col4\" class=\"data row0 col4\" >-0.91</td>\n",
       "                        <td id=\"T_5366d48a_0e96_11eb_8387_985aeb8c3d36row0_col5\" class=\"data row0 col5\" >3.12</td>\n",
       "                        <td id=\"T_5366d48a_0e96_11eb_8387_985aeb8c3d36row0_col6\" class=\"data row0 col6\" >N/A</td>\n",
       "            </tr>\n",
       "            <tr>\n",
       "                        <th id=\"T_5366d48a_0e96_11eb_8387_985aeb8c3d36level0_row1\" class=\"row_heading level0 row1\" >2008</th>\n",
       "                        <td id=\"T_5366d48a_0e96_11eb_8387_985aeb8c3d36row1_col0\" class=\"data row1 col0\" >2.53</td>\n",
       "                        <td id=\"T_5366d48a_0e96_11eb_8387_985aeb8c3d36row1_col1\" class=\"data row1 col1\" >0.99</td>\n",
       "                        <td id=\"T_5366d48a_0e96_11eb_8387_985aeb8c3d36row1_col2\" class=\"data row1 col2\" >0.96</td>\n",
       "                        <td id=\"T_5366d48a_0e96_11eb_8387_985aeb8c3d36row1_col3\" class=\"data row1 col3\" >-1.04</td>\n",
       "                        <td id=\"T_5366d48a_0e96_11eb_8387_985aeb8c3d36row1_col4\" class=\"data row1 col4\" >2.26</td>\n",
       "                        <td id=\"T_5366d48a_0e96_11eb_8387_985aeb8c3d36row1_col5\" class=\"data row1 col5\" >-7.06</td>\n",
       "                        <td id=\"T_5366d48a_0e96_11eb_8387_985aeb8c3d36row1_col6\" class=\"data row1 col6\" >-7.45</td>\n",
       "            </tr>\n",
       "            <tr>\n",
       "                        <th id=\"T_5366d48a_0e96_11eb_8387_985aeb8c3d36level0_row2\" class=\"row_heading level0 row2\" >2009</th>\n",
       "                        <td id=\"T_5366d48a_0e96_11eb_8387_985aeb8c3d36row2_col0\" class=\"data row2 col0\" >2.13</td>\n",
       "                        <td id=\"T_5366d48a_0e96_11eb_8387_985aeb8c3d36row2_col1\" class=\"data row2 col1\" >1.71</td>\n",
       "                        <td id=\"T_5366d48a_0e96_11eb_8387_985aeb8c3d36row2_col2\" class=\"data row2 col2\" >1.46</td>\n",
       "                        <td id=\"T_5366d48a_0e96_11eb_8387_985aeb8c3d36row2_col3\" class=\"data row2 col3\" >1.89</td>\n",
       "                        <td id=\"T_5366d48a_0e96_11eb_8387_985aeb8c3d36row2_col4\" class=\"data row2 col4\" >0.26</td>\n",
       "                        <td id=\"T_5366d48a_0e96_11eb_8387_985aeb8c3d36row2_col5\" class=\"data row2 col5\" >3.79</td>\n",
       "                        <td id=\"T_5366d48a_0e96_11eb_8387_985aeb8c3d36row2_col6\" class=\"data row2 col6\" >0.81</td>\n",
       "            </tr>\n",
       "            <tr>\n",
       "                        <th id=\"T_5366d48a_0e96_11eb_8387_985aeb8c3d36level0_row3\" class=\"row_heading level0 row3\" >2010</th>\n",
       "                        <td id=\"T_5366d48a_0e96_11eb_8387_985aeb8c3d36row3_col0\" class=\"data row3 col0\" >2.16</td>\n",
       "                        <td id=\"T_5366d48a_0e96_11eb_8387_985aeb8c3d36row3_col1\" class=\"data row3 col1\" >2.31</td>\n",
       "                        <td id=\"T_5366d48a_0e96_11eb_8387_985aeb8c3d36row3_col2\" class=\"data row3 col2\" >2.48</td>\n",
       "                        <td id=\"T_5366d48a_0e96_11eb_8387_985aeb8c3d36row3_col3\" class=\"data row3 col3\" >2.31</td>\n",
       "                        <td id=\"T_5366d48a_0e96_11eb_8387_985aeb8c3d36row3_col4\" class=\"data row3 col4\" >1.83</td>\n",
       "                        <td id=\"T_5366d48a_0e96_11eb_8387_985aeb8c3d36row3_col5\" class=\"data row3 col5\" >-0.46</td>\n",
       "                        <td id=\"T_5366d48a_0e96_11eb_8387_985aeb8c3d36row3_col6\" class=\"data row3 col6\" >-3.23</td>\n",
       "            </tr>\n",
       "            <tr>\n",
       "                        <th id=\"T_5366d48a_0e96_11eb_8387_985aeb8c3d36level0_row4\" class=\"row_heading level0 row4\" >2011</th>\n",
       "                        <td id=\"T_5366d48a_0e96_11eb_8387_985aeb8c3d36row4_col0\" class=\"data row4 col0\" >1.49</td>\n",
       "                        <td id=\"T_5366d48a_0e96_11eb_8387_985aeb8c3d36row4_col1\" class=\"data row4 col1\" >2.18</td>\n",
       "                        <td id=\"T_5366d48a_0e96_11eb_8387_985aeb8c3d36row4_col2\" class=\"data row4 col2\" >1.76</td>\n",
       "                        <td id=\"T_5366d48a_0e96_11eb_8387_985aeb8c3d36row4_col3\" class=\"data row4 col3\" >2.14</td>\n",
       "                        <td id=\"T_5366d48a_0e96_11eb_8387_985aeb8c3d36row4_col4\" class=\"data row4 col4\" >2.41</td>\n",
       "                        <td id=\"T_5366d48a_0e96_11eb_8387_985aeb8c3d36row4_col5\" class=\"data row4 col5\" >2.23</td>\n",
       "                        <td id=\"T_5366d48a_0e96_11eb_8387_985aeb8c3d36row4_col6\" class=\"data row4 col6\" >-2.04</td>\n",
       "            </tr>\n",
       "            <tr>\n",
       "                        <th id=\"T_5366d48a_0e96_11eb_8387_985aeb8c3d36level0_row5\" class=\"row_heading level0 row5\" >2012</th>\n",
       "                        <td id=\"T_5366d48a_0e96_11eb_8387_985aeb8c3d36row5_col0\" class=\"data row5 col0\" >1.57</td>\n",
       "                        <td id=\"T_5366d48a_0e96_11eb_8387_985aeb8c3d36row5_col1\" class=\"data row5 col1\" >2.35</td>\n",
       "                        <td id=\"T_5366d48a_0e96_11eb_8387_985aeb8c3d36row5_col2\" class=\"data row5 col2\" >2.2</td>\n",
       "                        <td id=\"T_5366d48a_0e96_11eb_8387_985aeb8c3d36row5_col3\" class=\"data row5 col3\" >2.41</td>\n",
       "                        <td id=\"T_5366d48a_0e96_11eb_8387_985aeb8c3d36row5_col4\" class=\"data row5 col4\" >3.18</td>\n",
       "                        <td id=\"T_5366d48a_0e96_11eb_8387_985aeb8c3d36row5_col5\" class=\"data row5 col5\" >3.23</td>\n",
       "                        <td id=\"T_5366d48a_0e96_11eb_8387_985aeb8c3d36row5_col6\" class=\"data row5 col6\" >4.29</td>\n",
       "            </tr>\n",
       "    </tbody></table>"
      ],
      "text/plain": [
       "<pandas.io.formats.style.Styler at 0x11b08c070>"
      ]
     },
     "execution_count": 16,
     "metadata": {},
     "output_type": "execute_result"
    }
   ],
   "source": [
    "df = pd.DataFrame(sumarry)\n",
    "df = df.reindex(sorted(df.columns), axis=1)\n",
    "df.style.set_caption(\"Average Annualized Rate of Return by Year of Origination, Grade\")"
   ]
  },
  {
   "cell_type": "markdown",
   "metadata": {},
   "source": [
    "These are the annualized rates of return by bucket. The standard deviation by cohort can be found here<sup><a href=\"#21\" name=\"back21\">21</a></sup> "
   ]
  },
  {
   "cell_type": "markdown",
   "metadata": {},
   "source": [
    "# Part 2: Modeling"
   ]
  },
  {
   "cell_type": "markdown",
   "metadata": {},
   "source": [
    "**Goal of Model:** Avoid any future investment in 36 month loans which will default during their term"
   ]
  },
  {
   "cell_type": "markdown",
   "metadata": {},
   "source": [
    "### Step 1: Preprocessing"
   ]
  },
  {
   "cell_type": "markdown",
   "metadata": {},
   "source": [
    "*Which loan fields would be known upon origination?*\n",
    "1. **funded_amnt:** ✓\n",
    "2. **int_rate:** ✓\n",
    "3. **grade:** ✓ (I'll assume the grade of the loan is assigned immediately)\n",
    "4. **annual_inc:** ✓\n",
    "5. **issue_d:** ? (The date of origination is known. However, the loan default characteristics of that year/month are not necessarily known) \n",
    "6. **loan_status:** ✖\n",
    "7. **dti:** ✓ \n",
    "8. **revol_bal:** ✓ (Based on my understanding of revolving balance)\n",
    "9. **total_pymnt** ✖\n",
    "10. **reduced_by** ✓ (Based on my understanding of the relationship between funded and loan amount)"
   ]
  },
  {
   "cell_type": "code",
   "execution_count": 17,
   "metadata": {},
   "outputs": [],
   "source": [
    "X = data[[\"funded_amnt\",\"int_rate\",\"grade\",\"annual_inc\",\"issue_d\",\"dti\",\"revol_bal\",\"reduced_by\"]].copy()\n",
    "y = data[[\"defaulted\"]].copy()"
   ]
  },
  {
   "cell_type": "markdown",
   "metadata": {},
   "source": [
    "*Do I need to do some sort of normalization or feature engineering of issue_d, to account for changing external factors?*\n",
    "\n",
    "Yes.<sup><a href=\"#22\" name=\"back22\">22</a></sup> I'll add a variable indicating the running average default rate of the last 10 months, not including the current month. This should account for changing temporal factors, so I won't have to use rolling validation (separation by year). In a business setting, I would spend a lot of time considering different options for the appropriate way to handle the time series, especially given the unbalanced nature of the data year to year.<sup><a href=\"#23\" name=\"back23\">23</a></sup> "
   ]
  },
  {
   "cell_type": "code",
   "execution_count": 18,
   "metadata": {},
   "outputs": [],
   "source": [
    "default_rate_by_year = data.groupby(data[\"issue_d\"].dt.year)[\"defaulted\"].mean().to_dict()\n",
    "default_rate_by_year[2006] = .19"
   ]
  },
  {
   "cell_type": "markdown",
   "metadata": {},
   "source": [
    "This could allow for indirect data leakage in a more complex model, but for logistic regression it should be alright."
   ]
  },
  {
   "cell_type": "code",
   "execution_count": 19,
   "metadata": {},
   "outputs": [],
   "source": [
    "#minus one here indicates a trail of one year\n",
    "X[\"trailing_default\"] = X[\"issue_d\"].dt.year.apply(lambda x: default_rate_by_year[x-1])\n",
    "X = X.drop(\"issue_d\",axis=1)"
   ]
  },
  {
   "cell_type": "markdown",
   "metadata": {},
   "source": [
    "*Should I use an ordinal encoding or dummy variables for grade?*\n",
    "\n",
    "Unfortunately, sklearn's logistic regression does not currently support categorical variables. I'm going to go with dummy variables. There's a tradeoff between increasing the dimensionality of the data and allowing for non-linear characteristics to emerge. In this case, I think the dimensionality is low enough to allow for dummy variables to be used without issue."
   ]
  },
  {
   "cell_type": "code",
   "execution_count": 20,
   "metadata": {},
   "outputs": [],
   "source": [
    "X = pd.concat((X, pd.get_dummies(data[\"grade\"])),axis=1).drop(\"grade\",axis=1)"
   ]
  },
  {
   "cell_type": "code",
   "execution_count": 21,
   "metadata": {},
   "outputs": [],
   "source": [
    "train_percent = .8\n",
    "validation_percent = .1\n",
    "test_percent = .1\n",
    "separation = np.random.choice([0,1,2],size=len(X), p=[train_percent,validation_percent,test_percent])"
   ]
  },
  {
   "cell_type": "code",
   "execution_count": 22,
   "metadata": {},
   "outputs": [],
   "source": [
    "Xtrain = X.loc[separation==0]\n",
    "Xvalidate = X.loc[separation==1]\n",
    "Xtest = X.loc[separation==2]\n",
    "ytrain = y.loc[separation==0]\n",
    "yvalidate = y.loc[separation==1]\n",
    "ytest = y.loc[separation==2]"
   ]
  },
  {
   "cell_type": "markdown",
   "metadata": {},
   "source": [
    "### Step 2: Test a few approaches"
   ]
  },
  {
   "cell_type": "code",
   "execution_count": 23,
   "metadata": {},
   "outputs": [],
   "source": [
    "from sklearn.linear_model import LogisticRegression\n",
    "from sklearn import metrics"
   ]
  },
  {
   "cell_type": "markdown",
   "metadata": {},
   "source": [
    "*How to validate and measure the performance of the model?*\n",
    "\n",
    "I will be assessing ROC curve of the results, to allow for a discussion of different risk tolerances. Optimizing AUC (Area Under the ROC Curve) allows us to optimize real world model effectiveness, because our risk tolerance might change."
   ]
  },
  {
   "cell_type": "code",
   "execution_count": 24,
   "metadata": {},
   "outputs": [],
   "source": [
    "def roc_auc(clf, Xvalidate,yvalidate):\n",
    "    display(metrics.plot_roc_curve(clf, Xvalidate, yvalidate))\n",
    "    return {\"AUC\":metrics.roc_auc_score(yvalidate, clf.predict_proba(Xvalidate).T[1]), \n",
    "            \"Mean_Accuracy\": clf.score(Xvalidate,yvalidate)}"
   ]
  },
  {
   "cell_type": "markdown",
   "metadata": {},
   "source": [
    "Let's have a look at the current scores:"
   ]
  },
  {
   "cell_type": "code",
   "execution_count": 25,
   "metadata": {
    "scrolled": true
   },
   "outputs": [
    {
     "data": {
      "text/plain": [
       "<sklearn.metrics._plot.roc_curve.RocCurveDisplay at 0x127bad670>"
      ]
     },
     "metadata": {},
     "output_type": "display_data"
    },
    {
     "data": {
      "image/png": "[encoded data removed]",
      "text/plain": [
       "<Figure size 432x288 with 1 Axes>"
      ]
     },
     "metadata": {
      "needs_background": "light"
     },
     "output_type": "display_data"
    }
   ],
   "source": [
    "clf = LogisticRegression(class_weight = 'balanced').fit(Xtrain, ytrain.to_numpy().T[0])\n",
    "baseline = roc_auc(clf, Xvalidate,yvalidate);"
   ]
  },
  {
   "cell_type": "code",
   "execution_count": 26,
   "metadata": {},
   "outputs": [
    {
     "data": {
      "text/plain": [
       "{'AUC': 0.5801585945705807, 'Mean_Accuracy': 0.609283276450512}"
      ]
     },
     "execution_count": 26,
     "metadata": {},
     "output_type": "execute_result"
    }
   ],
   "source": [
    "baseline"
   ]
  },
  {
   "cell_type": "markdown",
   "metadata": {},
   "source": [
    "This is not a very good AUC. Though our model achieves a mean accuracy of .86 with an appropriate threshold, this ROC curve indicates that our data may not be linearly separable, which will lead to high instability in our model."
   ]
  },
  {
   "cell_type": "markdown",
   "metadata": {},
   "source": [
    "**Questions left to answer with validation** "
   ]
  },
  {
   "cell_type": "markdown",
   "metadata": {},
   "source": [
    "*Should funded amount be discretized?*\n",
    "\n",
    "No.<sup><a href=\"#24\" name=\"back24\">24</a></sup>  Per my discussion above, loan amount is almost discrete, with the vast majority of points occurring on multiples of 1000. In the appendix, I investigate whether the model is improved by the creation of dummy variables from bins of loan amount. It turns out to increase AUC to .57, which is negligible."
   ]
  },
  {
   "cell_type": "markdown",
   "metadata": {},
   "source": [
    "*Should both grade and intrest rate be used, or just one?*\n",
    "\n",
    "Both.<sup><a href=\"#25\" name=\"back25\">25</a></sup>  Per my discussion in the appendix at <sup><a href=\"#26\" name=\"back26\">26</a></sup>, grade and interest rate correlate very well, and it is possible that multicollinearity is a problem (though unlikely). I attempted removing interest rate, and AUC remained unchanged."
   ]
  },
  {
   "cell_type": "markdown",
   "metadata": {},
   "source": [
    "*Should I take the log of the lognormal distributions in our data set?*\n",
    "\n",
    "Yes.<sup><a href=\"#27\" name=\"back27\">27</a></sup> Logistic regression is typically more robust on non-Gaussian distributions. However, in this case, it makes a clear difference to normalize the lognormal variables. The AUC improves to .64.\n",
    "\n"
   ]
  },
  {
   "cell_type": "markdown",
   "metadata": {},
   "source": [
    "*Is month a useful categorical variable to add?*\n",
    "\n",
    "No.<sup><a href=\"#28\" name=\"back28\">28</a></sup> Adding the month does not seem to improve AUC."
   ]
  },
  {
   "cell_type": "markdown",
   "metadata": {},
   "source": [
    "*Is reduced_by useful at all?*\n",
    "\n",
    "No.<sup><a href=\"#29\" name=\"back29\">29</a></sup> As mentioned above, reduce_by is 0 in 99% of cases. Does it actually impact the success of our model? All things being equal, we should remove useless variables. It turns out that removing reduced_by does not impact our AUC. Thus, we should probably remove it in the final model."
   ]
  },
  {
   "cell_type": "markdown",
   "metadata": {},
   "source": [
    "*Will regularization help? (l2 or l1)*\n",
    "\n",
    "Yes.<sup><a href=\"#30\" name=\"back30\">30</a></sup> It seems that regularization, and possibly changing the solver for the logistic regression, change the results considerably, bringing the AUC up to .64 independent of any other change."
   ]
  },
  {
   "cell_type": "markdown",
   "metadata": {},
   "source": [
    "**Integrate the new transformations**"
   ]
  },
  {
   "cell_type": "code",
   "execution_count": 27,
   "metadata": {},
   "outputs": [],
   "source": [
    "Xtrain_final = Xtrain.drop(\"reduced_by\",axis=1).copy()\n",
    "Xvalidate_final = Xvalidate.drop(\"reduced_by\",axis=1).copy()\n",
    "Xtest_final = Xtest.drop(\"reduced_by\",axis=1).copy()\n",
    "\n",
    "Xtrain_final[\"annual_inc\"] =  np.log10(Xtrain_final[\"annual_inc\"] + 1)\n",
    "Xtrain_final[\"dti\"] =  np.log10(Xtrain_final[\"dti\"] + 1)\n",
    "Xtrain_final[\"revol_bal\"] =  np.log10(Xtrain_final[\"revol_bal\"] + 1)\n",
    "\n",
    "Xvalidate_final[\"annual_inc\"] =  np.log10(Xvalidate_final[\"annual_inc\"] + 1)\n",
    "Xvalidate_final[\"dti\"] =  np.log10(Xvalidate_final[\"dti\"] + 1)\n",
    "Xvalidate_final[\"revol_bal\"] =  np.log10(Xvalidate_final[\"revol_bal\"] + 1)\n",
    "\n",
    "Xtest_final[\"annual_inc\"] =  np.log10(Xtest_final[\"annual_inc\"] + 1)\n",
    "Xtest_final[\"dti\"] =  np.log10(Xtest_final[\"dti\"] + 1)\n",
    "Xtest_final[\"revol_bal\"] =  np.log10(Xtest_final[\"revol_bal\"] + 1)"
   ]
  },
  {
   "cell_type": "markdown",
   "metadata": {},
   "source": [
    "### Step 3: Assess the Final Model"
   ]
  },
  {
   "cell_type": "markdown",
   "metadata": {},
   "source": [
    "First, we assess the ROC curve on the validation set"
   ]
  },
  {
   "cell_type": "code",
   "execution_count": 28,
   "metadata": {
    "scrolled": true
   },
   "outputs": [
    {
     "data": {
      "text/plain": [
       "<sklearn.metrics._plot.roc_curve.RocCurveDisplay at 0x127c144f0>"
      ]
     },
     "metadata": {},
     "output_type": "display_data"
    },
    {
     "data": {
      "text/plain": [
       "{'AUC': 0.6593212515546364, 'Mean_Accuracy': 0.5903071672354949}"
      ]
     },
     "execution_count": 28,
     "metadata": {},
     "output_type": "execute_result"
    },
    {
     "data": {
      "image/png": "[encoded data removed]",
      "text/plain": [
       "<Figure size 432x288 with 1 Axes>"
      ]
     },
     "metadata": {
      "needs_background": "light"
     },
     "output_type": "display_data"
    }
   ],
   "source": [
    "clf = LogisticRegression(class_weight = 'balanced', solver=\"liblinear\", penalty=\"l1\", max_iter=1000).fit(\n",
    "                                                                        Xtrain_final, ytrain.to_numpy().T[0])\n",
    "roc_auc(clf, Xvalidate_final,yvalidate)"
   ]
  },
  {
   "cell_type": "markdown",
   "metadata": {},
   "source": [
    "And next, on the test set"
   ]
  },
  {
   "cell_type": "code",
   "execution_count": 29,
   "metadata": {},
   "outputs": [
    {
     "data": {
      "text/plain": [
       "<sklearn.metrics._plot.roc_curve.RocCurveDisplay at 0x11b077a30>"
      ]
     },
     "metadata": {},
     "output_type": "display_data"
    },
    {
     "data": {
      "text/plain": [
       "{'AUC': 0.6489662729232141, 'Mean_Accuracy': 0.58182070112235}"
      ]
     },
     "execution_count": 29,
     "metadata": {},
     "output_type": "execute_result"
    },
    {
     "data": {
      "image/png": "[encoded data removed]",
      "text/plain": [
       "<Figure size 432x288 with 1 Axes>"
      ]
     },
     "metadata": {
      "needs_background": "light"
     },
     "output_type": "display_data"
    }
   ],
   "source": [
    "roc_auc(clf, Xtest_final,ytest)"
   ]
  },
  {
   "cell_type": "markdown",
   "metadata": {},
   "source": [
    "*What would make the model effective?*"
   ]
  },
  {
   "cell_type": "markdown",
   "metadata": {},
   "source": [
    "I would say the model is effective if we would expect it to achieve a modest decrease in the default rate, without throwing away too many valuable loans. I have defined an \"improvement\" function which calculates those terms for a variety of expected tpr. There is an annotated version in the appendix here<sup><a href=\"#31\" name=\"back31\">31</a></sup>."
   ]
  },
  {
   "cell_type": "code",
   "execution_count": 30,
   "metadata": {},
   "outputs": [],
   "source": [
    "def improvement(goal_tpr,probabilities,y):\n",
    "    total_default = sum(1*y.to_numpy())[0]\n",
    "    total_loans = len(1*y.to_numpy())\n",
    "    fpr, tpr, thresholds = metrics.roc_curve(y, probabilities)   \n",
    "    index = [i for i,j in enumerate(tpr >= goal_tpr) if j][0]\n",
    "    total_flagged_loans = sum(1*(probabilities > thresholds[index]))\n",
    "    flagged_loans_default = sum(1*y[probabilities > thresholds[index]].to_numpy())\n",
    "    flagged_loans_fully_paid = sum(-1*(y[probabilities > thresholds[index]].to_numpy()-1))\n",
    "    new_default_percent = round(\n",
    "                (100*(total_default-flagged_loans_default)/(total_loans - total_flagged_loans)).item(),2)\n",
    "    loans_rejected_percent = round(\n",
    "                (100*(total_flagged_loans)/(total_loans)).item(),2)\n",
    "    return {\"default_percent\":new_default_percent, \"rejected_percent\":loans_rejected_percent}"
   ]
  },
  {
   "cell_type": "code",
   "execution_count": 31,
   "metadata": {},
   "outputs": [],
   "source": [
    "test_probs = clf.predict_proba(Xtest_final).T[1]\n",
    "current_default_rate = round(100*(sum(1*ytest.to_numpy())/len(ytest))[0],2)"
   ]
  },
  {
   "cell_type": "code",
   "execution_count": 32,
   "metadata": {},
   "outputs": [],
   "source": [
    "sumarry = {}\n",
    "for tpr in range(0,11):\n",
    "    im = improvement(tpr/10,test_probs,ytest)\n",
    "    sumarry[tpr] = im\n",
    "    sumarry[tpr][\"percentage_point_improvement\"] = current_default_rate - im[\"default_percent\"]"
   ]
  },
  {
   "cell_type": "markdown",
   "metadata": {},
   "source": [
    "All columns in this table are calculated with the test set data. This table has 3 columns:\n",
    "1. **default_percent:** The expected default percentage after rejecting all loans exceeding the threshold\n",
    "2. **rejected_percent:** The expected percentage of loans which will have to be rejected to achieve this default percent\n",
    "3. **percentage_point_improvement:** The expected percentage point improvement in default percentage"
   ]
  },
  {
   "cell_type": "code",
   "execution_count": 33,
   "metadata": {},
   "outputs": [
    {
     "data": {
      "text/html": [
       "<div>\n",
       "<style scoped>\n",
       "    .dataframe tbody tr th:only-of-type {\n",
       "        vertical-align: middle;\n",
       "    }\n",
       "\n",
       "    .dataframe tbody tr th {\n",
       "        vertical-align: top;\n",
       "    }\n",
       "\n",
       "    .dataframe thead th {\n",
       "        text-align: right;\n",
       "    }\n",
       "</style>\n",
       "<table border=\"1\" class=\"dataframe\">\n",
       "  <thead>\n",
       "    <tr style=\"text-align: right;\">\n",
       "      <th></th>\n",
       "      <th>default_percent</th>\n",
       "      <th>rejected_percent</th>\n",
       "      <th>percentage_point_improvement</th>\n",
       "    </tr>\n",
       "  </thead>\n",
       "  <tbody>\n",
       "    <tr>\n",
       "      <th>0</th>\n",
       "      <td>12.37</td>\n",
       "      <td>0.00</td>\n",
       "      <td>0.00</td>\n",
       "    </tr>\n",
       "    <tr>\n",
       "      <th>1</th>\n",
       "      <td>11.72</td>\n",
       "      <td>4.96</td>\n",
       "      <td>0.65</td>\n",
       "    </tr>\n",
       "    <tr>\n",
       "      <th>2</th>\n",
       "      <td>11.13</td>\n",
       "      <td>11.00</td>\n",
       "      <td>1.24</td>\n",
       "    </tr>\n",
       "    <tr>\n",
       "      <th>3</th>\n",
       "      <td>10.49</td>\n",
       "      <td>17.29</td>\n",
       "      <td>1.88</td>\n",
       "    </tr>\n",
       "    <tr>\n",
       "      <th>4</th>\n",
       "      <td>9.93</td>\n",
       "      <td>25.20</td>\n",
       "      <td>2.44</td>\n",
       "    </tr>\n",
       "    <tr>\n",
       "      <th>5</th>\n",
       "      <td>9.31</td>\n",
       "      <td>33.48</td>\n",
       "      <td>3.06</td>\n",
       "    </tr>\n",
       "    <tr>\n",
       "      <th>6</th>\n",
       "      <td>8.47</td>\n",
       "      <td>41.40</td>\n",
       "      <td>3.90</td>\n",
       "    </tr>\n",
       "    <tr>\n",
       "      <th>7</th>\n",
       "      <td>7.62</td>\n",
       "      <td>51.25</td>\n",
       "      <td>4.75</td>\n",
       "    </tr>\n",
       "    <tr>\n",
       "      <th>8</th>\n",
       "      <td>6.67</td>\n",
       "      <td>62.80</td>\n",
       "      <td>5.70</td>\n",
       "    </tr>\n",
       "    <tr>\n",
       "      <th>9</th>\n",
       "      <td>5.25</td>\n",
       "      <td>76.25</td>\n",
       "      <td>7.12</td>\n",
       "    </tr>\n",
       "    <tr>\n",
       "      <th>10</th>\n",
       "      <td>4.55</td>\n",
       "      <td>99.70</td>\n",
       "      <td>7.82</td>\n",
       "    </tr>\n",
       "  </tbody>\n",
       "</table>\n",
       "</div>"
      ],
      "text/plain": [
       "    default_percent  rejected_percent  percentage_point_improvement\n",
       "0             12.37              0.00                          0.00\n",
       "1             11.72              4.96                          0.65\n",
       "2             11.13             11.00                          1.24\n",
       "3             10.49             17.29                          1.88\n",
       "4              9.93             25.20                          2.44\n",
       "5              9.31             33.48                          3.06\n",
       "6              8.47             41.40                          3.90\n",
       "7              7.62             51.25                          4.75\n",
       "8              6.67             62.80                          5.70\n",
       "9              5.25             76.25                          7.12\n",
       "10             4.55             99.70                          7.82"
      ]
     },
     "execution_count": 33,
     "metadata": {},
     "output_type": "execute_result"
    }
   ],
   "source": [
    "df = pd.DataFrame(data=sumarry).T\n",
    "df"
   ]
  },
  {
   "cell_type": "markdown",
   "metadata": {},
   "source": [
    "It would depend on the application, but to me this model does **not** seem to be very effective. \n",
    "\n",
    "In order to achieve a modest percentage point improvement in default rate of about 2%, we would have to throw out almost 20% of incoming loans if we were basing the choices on this model alone. "
   ]
  },
  {
   "cell_type": "markdown",
   "metadata": {},
   "source": [
    "# Appendix"
   ]
  },
  {
   "cell_type": "markdown",
   "metadata": {},
   "source": [
    "This appendix contains (almost) all the code I ran during the process of exploring the data and answering the questions, in (almost) the order that I decided to run it."
   ]
  },
  {
   "cell_type": "markdown",
   "metadata": {},
   "source": [
    "## Part 1"
   ]
  },
  {
   "cell_type": "markdown",
   "metadata": {},
   "source": [
    "### Initial Exploration"
   ]
  },
  {
   "cell_type": "code",
   "execution_count": 34,
   "metadata": {},
   "outputs": [],
   "source": [
    "#Distinguish between categorical and numerical variables\n",
    "cat = {c: type(raw_data[c][0]) == str for c in raw_data.columns}"
   ]
  },
  {
   "cell_type": "code",
   "execution_count": 35,
   "metadata": {},
   "outputs": [],
   "source": [
    "def sample_level_stats(column):\n",
    "    retval = {}\n",
    "    retval[\"count\"] =len(column)\n",
    "    retval[\"missing_percent\"] = column.isnull().sum() * 100 / retval[\"count\"]\n",
    "    \n",
    "    \n",
    "    if type(column[0]) == str:\n",
    "        retval[\"cat\"] = \"cat\"\n",
    "        #retval[\"sum\"] = 'N/A'\n",
    "        retval[\"zero_percent\"] = 'N/A'\n",
    "        retval[\"mean\"] = 'N/A'\n",
    "        retval[\"std\"] = 'N/A'\n",
    "        vc = column.value_counts()\n",
    "        retval[\"outlier_percent\"] = sum(vc[vc/retval[\"count\"] < .02]) * 100 /retval[\"count\"]\n",
    "        \n",
    "        \n",
    "    else:\n",
    "        retval[\"cat\"] = \"quant\"\n",
    "        #retval[\"sum\"] = sum(column)\n",
    "        retval[\"mean\"] = np.mean(column)\n",
    "        retval[\"std\"] = np.std(column)\n",
    "        retval[\"zero_percent\"] = column.apply(lambda x: 1 if x == 0 else 0).sum() * 100 / retval[\"count\"]\n",
    "        retval[\"outlier_percent\"] = column.apply(\n",
    "                                        lambda x: 1 if x > retval[\"mean\"]+2*retval[\"std\"] or\n",
    "                                                        x < retval[\"mean\"]-2*retval[\"std\"] else 0\n",
    "                                    ).sum() * 100 / retval[\"count\"]\n",
    "    return retval"
   ]
  },
  {
   "cell_type": "code",
   "execution_count": 36,
   "metadata": {
    "scrolled": true
   },
   "outputs": [
    {
     "data": {
      "text/html": [
       "<div>\n",
       "<style scoped>\n",
       "    .dataframe tbody tr th:only-of-type {\n",
       "        vertical-align: middle;\n",
       "    }\n",
       "\n",
       "    .dataframe tbody tr th {\n",
       "        vertical-align: top;\n",
       "    }\n",
       "\n",
       "    .dataframe thead th {\n",
       "        text-align: right;\n",
       "    }\n",
       "</style>\n",
       "<table border=\"1\" class=\"dataframe\">\n",
       "  <thead>\n",
       "    <tr style=\"text-align: right;\">\n",
       "      <th></th>\n",
       "      <th>loan_amnt</th>\n",
       "      <th>funded_amnt</th>\n",
       "      <th>term</th>\n",
       "      <th>int_rate</th>\n",
       "      <th>grade</th>\n",
       "      <th>annual_inc</th>\n",
       "      <th>issue_d</th>\n",
       "      <th>loan_status</th>\n",
       "      <th>dti</th>\n",
       "      <th>revol_bal</th>\n",
       "      <th>total_pymnt</th>\n",
       "    </tr>\n",
       "  </thead>\n",
       "  <tbody>\n",
       "    <tr>\n",
       "      <th>count</th>\n",
       "      <td>887379</td>\n",
       "      <td>887379</td>\n",
       "      <td>887379</td>\n",
       "      <td>887379</td>\n",
       "      <td>887379</td>\n",
       "      <td>887379</td>\n",
       "      <td>887379</td>\n",
       "      <td>887379</td>\n",
       "      <td>887379</td>\n",
       "      <td>887379</td>\n",
       "      <td>887379</td>\n",
       "    </tr>\n",
       "    <tr>\n",
       "      <th>missing_percent</th>\n",
       "      <td>0</td>\n",
       "      <td>0</td>\n",
       "      <td>0</td>\n",
       "      <td>0</td>\n",
       "      <td>0</td>\n",
       "      <td>0.000450766</td>\n",
       "      <td>0</td>\n",
       "      <td>0</td>\n",
       "      <td>0</td>\n",
       "      <td>0</td>\n",
       "      <td>0</td>\n",
       "    </tr>\n",
       "    <tr>\n",
       "      <th>cat</th>\n",
       "      <td>quant</td>\n",
       "      <td>quant</td>\n",
       "      <td>cat</td>\n",
       "      <td>quant</td>\n",
       "      <td>cat</td>\n",
       "      <td>quant</td>\n",
       "      <td>cat</td>\n",
       "      <td>cat</td>\n",
       "      <td>quant</td>\n",
       "      <td>quant</td>\n",
       "      <td>quant</td>\n",
       "    </tr>\n",
       "    <tr>\n",
       "      <th>mean</th>\n",
       "      <td>14755.3</td>\n",
       "      <td>14741.9</td>\n",
       "      <td>N/A</td>\n",
       "      <td>13.2467</td>\n",
       "      <td>N/A</td>\n",
       "      <td>75027.6</td>\n",
       "      <td>N/A</td>\n",
       "      <td>N/A</td>\n",
       "      <td>18.157</td>\n",
       "      <td>16920.8</td>\n",
       "      <td>7558.83</td>\n",
       "    </tr>\n",
       "    <tr>\n",
       "      <th>std</th>\n",
       "      <td>8435.45</td>\n",
       "      <td>8429.89</td>\n",
       "      <td>N/A</td>\n",
       "      <td>4.38186</td>\n",
       "      <td>N/A</td>\n",
       "      <td>64698.3</td>\n",
       "      <td>N/A</td>\n",
       "      <td>N/A</td>\n",
       "      <td>17.1906</td>\n",
       "      <td>22426.8</td>\n",
       "      <td>7871.24</td>\n",
       "    </tr>\n",
       "    <tr>\n",
       "      <th>zero_percent</th>\n",
       "      <td>0</td>\n",
       "      <td>0</td>\n",
       "      <td>N/A</td>\n",
       "      <td>0</td>\n",
       "      <td>N/A</td>\n",
       "      <td>0.000225383</td>\n",
       "      <td>N/A</td>\n",
       "      <td>N/A</td>\n",
       "      <td>0.0508238</td>\n",
       "      <td>0.383376</td>\n",
       "      <td>2.00129</td>\n",
       "    </tr>\n",
       "    <tr>\n",
       "      <th>outlier_percent</th>\n",
       "      <td>5.18752</td>\n",
       "      <td>5.17141</td>\n",
       "      <td>0</td>\n",
       "      <td>3.47698</td>\n",
       "      <td>0.618563</td>\n",
       "      <td>1.8469</td>\n",
       "      <td>35.6284</td>\n",
       "      <td>3.67701</td>\n",
       "      <td>0.00473304</td>\n",
       "      <td>2.22351</td>\n",
       "      <td>5.45742</td>\n",
       "    </tr>\n",
       "  </tbody>\n",
       "</table>\n",
       "</div>"
      ],
      "text/plain": [
       "                loan_amnt funded_amnt    term int_rate     grade   annual_inc  \\\n",
       "count              887379      887379  887379   887379    887379       887379   \n",
       "missing_percent         0           0       0        0         0  0.000450766   \n",
       "cat                 quant       quant     cat    quant       cat        quant   \n",
       "mean              14755.3     14741.9     N/A  13.2467       N/A      75027.6   \n",
       "std               8435.45     8429.89     N/A  4.38186       N/A      64698.3   \n",
       "zero_percent            0           0     N/A        0       N/A  0.000225383   \n",
       "outlier_percent   5.18752     5.17141       0  3.47698  0.618563       1.8469   \n",
       "\n",
       "                 issue_d loan_status         dti revol_bal total_pymnt  \n",
       "count             887379      887379      887379    887379      887379  \n",
       "missing_percent        0           0           0         0           0  \n",
       "cat                  cat         cat       quant     quant       quant  \n",
       "mean                 N/A         N/A      18.157   16920.8     7558.83  \n",
       "std                  N/A         N/A     17.1906   22426.8     7871.24  \n",
       "zero_percent         N/A         N/A   0.0508238  0.383376     2.00129  \n",
       "outlier_percent  35.6284     3.67701  0.00473304   2.22351     5.45742  "
      ]
     },
     "execution_count": 36,
     "metadata": {},
     "output_type": "execute_result"
    }
   ],
   "source": [
    "#A summary table, to understand where cleaning might be necessary\n",
    "summary = {c: sample_level_stats(raw_data[c]) for c in raw_data.columns}\n",
    "pd.DataFrame(data=summary).round()"
   ]
  },
  {
   "cell_type": "markdown",
   "metadata": {},
   "source": [
    "### Null Variables, Outliers, and Inconsistencies"
   ]
  },
  {
   "cell_type": "code",
   "execution_count": 37,
   "metadata": {
    "scrolled": false
   },
   "outputs": [
    {
     "data": {
      "text/plain": [
       "False"
      ]
     },
     "execution_count": 37,
     "metadata": {},
     "output_type": "execute_result"
    }
   ],
   "source": [
    "#Check for any duplicate rows\n",
    "np.any(raw_data.duplicated())"
   ]
  },
  {
   "cell_type": "code",
   "execution_count": 38,
   "metadata": {},
   "outputs": [],
   "source": [
    "#Common Sense Checks:\n",
    "#loan_amnt vs funded_amnt"
   ]
  },
  {
   "cell_type": "code",
   "execution_count": 39,
   "metadata": {},
   "outputs": [
    {
     "data": {
      "text/plain": [
       "False"
      ]
     },
     "execution_count": 39,
     "metadata": {},
     "output_type": "execute_result"
    }
   ],
   "source": [
    "np.any(raw_data[\"funded_amnt\"] > raw_data[\"loan_amnt\"])"
   ]
  },
  {
   "cell_type": "code",
   "execution_count": 40,
   "metadata": {},
   "outputs": [],
   "source": [
    "#It seems that funded amount is the amount given out at the onset of the loan. \n",
    "#Though the schema for the data indicates that loan_amnt can be decreased, it seems it is never\n",
    "#decreased bellow funded_amnt"
   ]
  },
  {
   "cell_type": "markdown",
   "metadata": {},
   "source": [
    "<a href=\"#back4\" name=\"4\">(↑)</a> Some loans appear not to have been paid off, yet are marked as paid off"
   ]
  },
  {
   "cell_type": "code",
   "execution_count": 41,
   "metadata": {
    "scrolled": true
   },
   "outputs": [
    {
     "data": {
      "text/plain": [
       "452"
      ]
     },
     "execution_count": 41,
     "metadata": {},
     "output_type": "execute_result"
    }
   ],
   "source": [
    "#Common Sense Checks:\n",
    "# Does a loan_status of fully paid indicate a total payment of more than the loan amount?\n",
    "raw_data[raw_data[\"loan_status\"] == \"Fully Paid\"].apply(lambda x: x[\"funded_amnt\"] > x[\"total_pymnt\"], axis=1).sum()"
   ]
  },
  {
   "cell_type": "code",
   "execution_count": 42,
   "metadata": {},
   "outputs": [],
   "source": [
    "#Apparently there are times when it does not. It seems that many of the loans have not been paid to the full amount\n",
    "# yet have been marked fully paid. Visa-Versa, are there loans which are not fully paid, yet seem to have been paid\n",
    "# off"
   ]
  },
  {
   "cell_type": "code",
   "execution_count": 43,
   "metadata": {},
   "outputs": [
    {
     "data": {
      "text/plain": [
       "9246"
      ]
     },
     "execution_count": 43,
     "metadata": {},
     "output_type": "execute_result"
    }
   ],
   "source": [
    "raw_data[raw_data[\"loan_status\"] != \"Fully Paid\"].apply(\n",
    "    lambda x: (x[\"funded_amnt\"]*(1+x[\"int_rate\"]/100)) <= x[\"total_pymnt\"], axis=1).sum()"
   ]
  },
  {
   "cell_type": "code",
   "execution_count": 44,
   "metadata": {},
   "outputs": [],
   "source": [
    "#Again, an issue. Though this could easily be due to fees unpaid, or something else."
   ]
  },
  {
   "cell_type": "code",
   "execution_count": 45,
   "metadata": {},
   "outputs": [],
   "source": [
    "#Are there any issue_d in the future? Luckily, no"
   ]
  },
  {
   "cell_type": "code",
   "execution_count": 46,
   "metadata": {
    "scrolled": true
   },
   "outputs": [
    {
     "data": {
      "text/plain": [
       "False"
      ]
     },
     "execution_count": 46,
     "metadata": {},
     "output_type": "execute_result"
    }
   ],
   "source": [
    "np.any(pd.to_datetime(raw_data[\"issue_d\"]) > pd.to_datetime(\"01/01/2016\"))"
   ]
  },
  {
   "cell_type": "code",
   "execution_count": 47,
   "metadata": {},
   "outputs": [],
   "source": [
    "#Missing At Random -- Check if values are different in cases where a value is missing, or not. "
   ]
  },
  {
   "cell_type": "markdown",
   "metadata": {},
   "source": [
    "<a href=\"#back3\" name=\"3\">(↑)</a> Missing income values all violate the credit policy"
   ]
  },
  {
   "cell_type": "code",
   "execution_count": 48,
   "metadata": {},
   "outputs": [],
   "source": [
    "A = raw_data[raw_data[\"annual_inc\"].isna()]\n",
    "B = raw_data[~raw_data[\"annual_inc\"].isna()].sample(len(A))"
   ]
  },
  {
   "cell_type": "code",
   "execution_count": 49,
   "metadata": {},
   "outputs": [],
   "source": [
    "#All the missing income values seem to indicate a loan status of \"does not meet credit policy\""
   ]
  },
  {
   "cell_type": "code",
   "execution_count": 50,
   "metadata": {},
   "outputs": [
    {
     "data": {
      "text/html": [
       "<div>\n",
       "<style scoped>\n",
       "    .dataframe tbody tr th:only-of-type {\n",
       "        vertical-align: middle;\n",
       "    }\n",
       "\n",
       "    .dataframe tbody tr th {\n",
       "        vertical-align: top;\n",
       "    }\n",
       "\n",
       "    .dataframe thead th {\n",
       "        text-align: right;\n",
       "    }\n",
       "</style>\n",
       "<table border=\"1\" class=\"dataframe\">\n",
       "  <thead>\n",
       "    <tr style=\"text-align: right;\">\n",
       "      <th></th>\n",
       "      <th>loan_amnt</th>\n",
       "      <th>funded_amnt</th>\n",
       "      <th>term</th>\n",
       "      <th>int_rate</th>\n",
       "      <th>grade</th>\n",
       "      <th>annual_inc</th>\n",
       "      <th>issue_d</th>\n",
       "      <th>loan_status</th>\n",
       "      <th>dti</th>\n",
       "      <th>revol_bal</th>\n",
       "      <th>total_pymnt</th>\n",
       "    </tr>\n",
       "  </thead>\n",
       "  <tbody>\n",
       "    <tr>\n",
       "      <th>42449</th>\n",
       "      <td>5000.0</td>\n",
       "      <td>5000.0</td>\n",
       "      <td>36 months</td>\n",
       "      <td>7.43</td>\n",
       "      <td>A</td>\n",
       "      <td>NaN</td>\n",
       "      <td>Aug-2007</td>\n",
       "      <td>Does not meet the credit policy. Status:Fully ...</td>\n",
       "      <td>1.00</td>\n",
       "      <td>0.0</td>\n",
       "      <td>5593.46</td>\n",
       "    </tr>\n",
       "    <tr>\n",
       "      <th>42450</th>\n",
       "      <td>7000.0</td>\n",
       "      <td>7000.0</td>\n",
       "      <td>36 months</td>\n",
       "      <td>7.75</td>\n",
       "      <td>A</td>\n",
       "      <td>NaN</td>\n",
       "      <td>Aug-2007</td>\n",
       "      <td>Does not meet the credit policy. Status:Fully ...</td>\n",
       "      <td>1.00</td>\n",
       "      <td>0.0</td>\n",
       "      <td>7867.53</td>\n",
       "    </tr>\n",
       "    <tr>\n",
       "      <th>42480</th>\n",
       "      <td>6700.0</td>\n",
       "      <td>6700.0</td>\n",
       "      <td>36 months</td>\n",
       "      <td>7.75</td>\n",
       "      <td>A</td>\n",
       "      <td>NaN</td>\n",
       "      <td>Jul-2007</td>\n",
       "      <td>Does not meet the credit policy. Status:Fully ...</td>\n",
       "      <td>1.00</td>\n",
       "      <td>0.0</td>\n",
       "      <td>7530.42</td>\n",
       "    </tr>\n",
       "    <tr>\n",
       "      <th>42533</th>\n",
       "      <td>6500.0</td>\n",
       "      <td>6500.0</td>\n",
       "      <td>36 months</td>\n",
       "      <td>8.38</td>\n",
       "      <td>A</td>\n",
       "      <td>NaN</td>\n",
       "      <td>Jun-2007</td>\n",
       "      <td>Does not meet the credit policy. Status:Fully ...</td>\n",
       "      <td>4.00</td>\n",
       "      <td>0.0</td>\n",
       "      <td>7373.83</td>\n",
       "    </tr>\n",
       "    <tr>\n",
       "      <th>36951</th>\n",
       "      <td>8200.0</td>\n",
       "      <td>8200.0</td>\n",
       "      <td>36 months</td>\n",
       "      <td>12.21</td>\n",
       "      <td>B</td>\n",
       "      <td>34000.0</td>\n",
       "      <td>Apr-2009</td>\n",
       "      <td>Fully Paid</td>\n",
       "      <td>8.72</td>\n",
       "      <td>6383.0</td>\n",
       "      <td>9816.52</td>\n",
       "    </tr>\n",
       "    <tr>\n",
       "      <th>256298</th>\n",
       "      <td>9600.0</td>\n",
       "      <td>9600.0</td>\n",
       "      <td>36 months</td>\n",
       "      <td>13.66</td>\n",
       "      <td>C</td>\n",
       "      <td>40000.0</td>\n",
       "      <td>Nov-2014</td>\n",
       "      <td>Current</td>\n",
       "      <td>4.80</td>\n",
       "      <td>4962.0</td>\n",
       "      <td>4230.32</td>\n",
       "    </tr>\n",
       "    <tr>\n",
       "      <th>824519</th>\n",
       "      <td>10000.0</td>\n",
       "      <td>10000.0</td>\n",
       "      <td>36 months</td>\n",
       "      <td>10.99</td>\n",
       "      <td>B</td>\n",
       "      <td>58000.0</td>\n",
       "      <td>Mar-2015</td>\n",
       "      <td>Current</td>\n",
       "      <td>9.91</td>\n",
       "      <td>6340.0</td>\n",
       "      <td>3267.29</td>\n",
       "    </tr>\n",
       "    <tr>\n",
       "      <th>337053</th>\n",
       "      <td>13200.0</td>\n",
       "      <td>13200.0</td>\n",
       "      <td>60 months</td>\n",
       "      <td>11.67</td>\n",
       "      <td>B</td>\n",
       "      <td>50000.0</td>\n",
       "      <td>Jul-2014</td>\n",
       "      <td>Current</td>\n",
       "      <td>9.17</td>\n",
       "      <td>10892.0</td>\n",
       "      <td>4954.48</td>\n",
       "    </tr>\n",
       "  </tbody>\n",
       "</table>\n",
       "</div>"
      ],
      "text/plain": [
       "        loan_amnt  funded_amnt        term  int_rate grade  annual_inc  \\\n",
       "42449      5000.0       5000.0   36 months      7.43     A         NaN   \n",
       "42450      7000.0       7000.0   36 months      7.75     A         NaN   \n",
       "42480      6700.0       6700.0   36 months      7.75     A         NaN   \n",
       "42533      6500.0       6500.0   36 months      8.38     A         NaN   \n",
       "36951      8200.0       8200.0   36 months     12.21     B     34000.0   \n",
       "256298     9600.0       9600.0   36 months     13.66     C     40000.0   \n",
       "824519    10000.0      10000.0   36 months     10.99     B     58000.0   \n",
       "337053    13200.0      13200.0   60 months     11.67     B     50000.0   \n",
       "\n",
       "         issue_d                                        loan_status   dti  \\\n",
       "42449   Aug-2007  Does not meet the credit policy. Status:Fully ...  1.00   \n",
       "42450   Aug-2007  Does not meet the credit policy. Status:Fully ...  1.00   \n",
       "42480   Jul-2007  Does not meet the credit policy. Status:Fully ...  1.00   \n",
       "42533   Jun-2007  Does not meet the credit policy. Status:Fully ...  4.00   \n",
       "36951   Apr-2009                                         Fully Paid  8.72   \n",
       "256298  Nov-2014                                            Current  4.80   \n",
       "824519  Mar-2015                                            Current  9.91   \n",
       "337053  Jul-2014                                            Current  9.17   \n",
       "\n",
       "        revol_bal  total_pymnt  \n",
       "42449         0.0      5593.46  \n",
       "42450         0.0      7867.53  \n",
       "42480         0.0      7530.42  \n",
       "42533         0.0      7373.83  \n",
       "36951      6383.0      9816.52  \n",
       "256298     4962.0      4230.32  \n",
       "824519     6340.0      3267.29  \n",
       "337053    10892.0      4954.48  "
      ]
     },
     "execution_count": 50,
     "metadata": {},
     "output_type": "execute_result"
    }
   ],
   "source": [
    "A.append(B)"
   ]
  },
  {
   "cell_type": "code",
   "execution_count": 51,
   "metadata": {},
   "outputs": [],
   "source": [
    "A = raw_data[raw_data[\"annual_inc\"]==0]\n",
    "B = raw_data[~(raw_data[\"annual_inc\"]==0)].sample(len(A))"
   ]
  },
  {
   "cell_type": "code",
   "execution_count": 52,
   "metadata": {},
   "outputs": [],
   "source": [
    "#Now I'll check the zero values."
   ]
  },
  {
   "cell_type": "code",
   "execution_count": 53,
   "metadata": {
    "scrolled": true
   },
   "outputs": [
    {
     "data": {
      "text/html": [
       "<div>\n",
       "<style scoped>\n",
       "    .dataframe tbody tr th:only-of-type {\n",
       "        vertical-align: middle;\n",
       "    }\n",
       "\n",
       "    .dataframe tbody tr th {\n",
       "        vertical-align: top;\n",
       "    }\n",
       "\n",
       "    .dataframe thead th {\n",
       "        text-align: right;\n",
       "    }\n",
       "</style>\n",
       "<table border=\"1\" class=\"dataframe\">\n",
       "  <thead>\n",
       "    <tr style=\"text-align: right;\">\n",
       "      <th></th>\n",
       "      <th>loan_amnt</th>\n",
       "      <th>funded_amnt</th>\n",
       "      <th>term</th>\n",
       "      <th>int_rate</th>\n",
       "      <th>grade</th>\n",
       "      <th>annual_inc</th>\n",
       "      <th>issue_d</th>\n",
       "      <th>loan_status</th>\n",
       "      <th>dti</th>\n",
       "      <th>revol_bal</th>\n",
       "      <th>total_pymnt</th>\n",
       "    </tr>\n",
       "  </thead>\n",
       "  <tbody>\n",
       "    <tr>\n",
       "      <th>484446</th>\n",
       "      <td>20000.0</td>\n",
       "      <td>20000.0</td>\n",
       "      <td>36 months</td>\n",
       "      <td>16.99</td>\n",
       "      <td>D</td>\n",
       "      <td>0.0</td>\n",
       "      <td>Dec-2015</td>\n",
       "      <td>Current</td>\n",
       "      <td>9999.00</td>\n",
       "      <td>7161.0</td>\n",
       "      <td>694.08</td>\n",
       "    </tr>\n",
       "    <tr>\n",
       "      <th>531886</th>\n",
       "      <td>3700.0</td>\n",
       "      <td>3700.0</td>\n",
       "      <td>36 months</td>\n",
       "      <td>12.59</td>\n",
       "      <td>C</td>\n",
       "      <td>0.0</td>\n",
       "      <td>Nov-2015</td>\n",
       "      <td>Current</td>\n",
       "      <td>9999.00</td>\n",
       "      <td>10649.0</td>\n",
       "      <td>242.70</td>\n",
       "    </tr>\n",
       "    <tr>\n",
       "      <th>199785</th>\n",
       "      <td>27000.0</td>\n",
       "      <td>27000.0</td>\n",
       "      <td>60 months</td>\n",
       "      <td>20.49</td>\n",
       "      <td>E</td>\n",
       "      <td>68875.0</td>\n",
       "      <td>Sep-2012</td>\n",
       "      <td>Current</td>\n",
       "      <td>19.62</td>\n",
       "      <td>33090.0</td>\n",
       "      <td>28161.94</td>\n",
       "    </tr>\n",
       "    <tr>\n",
       "      <th>797801</th>\n",
       "      <td>15000.0</td>\n",
       "      <td>15000.0</td>\n",
       "      <td>36 months</td>\n",
       "      <td>16.99</td>\n",
       "      <td>D</td>\n",
       "      <td>45000.0</td>\n",
       "      <td>Apr-2015</td>\n",
       "      <td>Current</td>\n",
       "      <td>27.79</td>\n",
       "      <td>4256.0</td>\n",
       "      <td>4798.32</td>\n",
       "    </tr>\n",
       "  </tbody>\n",
       "</table>\n",
       "</div>"
      ],
      "text/plain": [
       "        loan_amnt  funded_amnt        term  int_rate grade  annual_inc  \\\n",
       "484446    20000.0      20000.0   36 months     16.99     D         0.0   \n",
       "531886     3700.0       3700.0   36 months     12.59     C         0.0   \n",
       "199785    27000.0      27000.0   60 months     20.49     E     68875.0   \n",
       "797801    15000.0      15000.0   36 months     16.99     D     45000.0   \n",
       "\n",
       "         issue_d loan_status      dti  revol_bal  total_pymnt  \n",
       "484446  Dec-2015     Current  9999.00     7161.0       694.08  \n",
       "531886  Nov-2015     Current  9999.00    10649.0       242.70  \n",
       "199785  Sep-2012     Current    19.62    33090.0     28161.94  \n",
       "797801  Apr-2015     Current    27.79     4256.0      4798.32  "
      ]
     },
     "execution_count": 53,
     "metadata": {},
     "output_type": "execute_result"
    }
   ],
   "source": [
    "A.append(B)"
   ]
  },
  {
   "cell_type": "markdown",
   "metadata": {},
   "source": [
    "<a href=\"#back1\" name=\"1\">(↑)</a> DTI division by zero issue"
   ]
  },
  {
   "cell_type": "code",
   "execution_count": 54,
   "metadata": {},
   "outputs": [],
   "source": [
    "#These seem to be ok. It makes sense that a few loans would be given out with zero income, perhaps to trusted\n",
    "# customers of some kind. However, this highlights an issue with \"dti\" being blown up out of proportion, due to\n",
    "#division by zero"
   ]
  },
  {
   "cell_type": "code",
   "execution_count": 55,
   "metadata": {},
   "outputs": [],
   "source": [
    "#Let's now check the zeros for dti"
   ]
  },
  {
   "cell_type": "code",
   "execution_count": 56,
   "metadata": {},
   "outputs": [],
   "source": [
    "A = raw_data[raw_data[\"dti\"]==0].sample(3)\n",
    "B = raw_data[~(raw_data[\"dti\"]==0)].sample(len(A))"
   ]
  },
  {
   "cell_type": "code",
   "execution_count": 57,
   "metadata": {
    "scrolled": true
   },
   "outputs": [
    {
     "data": {
      "text/html": [
       "<div>\n",
       "<style scoped>\n",
       "    .dataframe tbody tr th:only-of-type {\n",
       "        vertical-align: middle;\n",
       "    }\n",
       "\n",
       "    .dataframe tbody tr th {\n",
       "        vertical-align: top;\n",
       "    }\n",
       "\n",
       "    .dataframe thead th {\n",
       "        text-align: right;\n",
       "    }\n",
       "</style>\n",
       "<table border=\"1\" class=\"dataframe\">\n",
       "  <thead>\n",
       "    <tr style=\"text-align: right;\">\n",
       "      <th></th>\n",
       "      <th>loan_amnt</th>\n",
       "      <th>funded_amnt</th>\n",
       "      <th>term</th>\n",
       "      <th>int_rate</th>\n",
       "      <th>grade</th>\n",
       "      <th>annual_inc</th>\n",
       "      <th>issue_d</th>\n",
       "      <th>loan_status</th>\n",
       "      <th>dti</th>\n",
       "      <th>revol_bal</th>\n",
       "      <th>total_pymnt</th>\n",
       "    </tr>\n",
       "  </thead>\n",
       "  <tbody>\n",
       "    <tr>\n",
       "      <th>26203</th>\n",
       "      <td>6000.0</td>\n",
       "      <td>6000.0</td>\n",
       "      <td>36 months</td>\n",
       "      <td>7.88</td>\n",
       "      <td>A</td>\n",
       "      <td>70000.0</td>\n",
       "      <td>Sep-2010</td>\n",
       "      <td>Fully Paid</td>\n",
       "      <td>0.00</td>\n",
       "      <td>0.0</td>\n",
       "      <td>6755.960000</td>\n",
       "    </tr>\n",
       "    <tr>\n",
       "      <th>240702</th>\n",
       "      <td>20000.0</td>\n",
       "      <td>20000.0</td>\n",
       "      <td>60 months</td>\n",
       "      <td>14.99</td>\n",
       "      <td>C</td>\n",
       "      <td>42000.0</td>\n",
       "      <td>Dec-2014</td>\n",
       "      <td>Fully Paid</td>\n",
       "      <td>0.00</td>\n",
       "      <td>0.0</td>\n",
       "      <td>20074.960000</td>\n",
       "    </tr>\n",
       "    <tr>\n",
       "      <th>22291</th>\n",
       "      <td>10000.0</td>\n",
       "      <td>10000.0</td>\n",
       "      <td>36 months</td>\n",
       "      <td>5.79</td>\n",
       "      <td>A</td>\n",
       "      <td>24000.0</td>\n",
       "      <td>Dec-2010</td>\n",
       "      <td>Fully Paid</td>\n",
       "      <td>0.00</td>\n",
       "      <td>0.0</td>\n",
       "      <td>10914.290000</td>\n",
       "    </tr>\n",
       "    <tr>\n",
       "      <th>814408</th>\n",
       "      <td>15000.0</td>\n",
       "      <td>15000.0</td>\n",
       "      <td>60 months</td>\n",
       "      <td>21.67</td>\n",
       "      <td>E</td>\n",
       "      <td>45200.0</td>\n",
       "      <td>Mar-2015</td>\n",
       "      <td>Current</td>\n",
       "      <td>29.90</td>\n",
       "      <td>10137.0</td>\n",
       "      <td>4096.740000</td>\n",
       "    </tr>\n",
       "    <tr>\n",
       "      <th>174982</th>\n",
       "      <td>9600.0</td>\n",
       "      <td>9600.0</td>\n",
       "      <td>36 months</td>\n",
       "      <td>15.80</td>\n",
       "      <td>C</td>\n",
       "      <td>52000.0</td>\n",
       "      <td>Jan-2013</td>\n",
       "      <td>Fully Paid</td>\n",
       "      <td>22.06</td>\n",
       "      <td>8379.0</td>\n",
       "      <td>11621.816625</td>\n",
       "    </tr>\n",
       "    <tr>\n",
       "      <th>746998</th>\n",
       "      <td>30000.0</td>\n",
       "      <td>30000.0</td>\n",
       "      <td>60 months</td>\n",
       "      <td>10.99</td>\n",
       "      <td>B</td>\n",
       "      <td>98000.0</td>\n",
       "      <td>Jun-2015</td>\n",
       "      <td>Current</td>\n",
       "      <td>18.47</td>\n",
       "      <td>99379.0</td>\n",
       "      <td>4439.460000</td>\n",
       "    </tr>\n",
       "  </tbody>\n",
       "</table>\n",
       "</div>"
      ],
      "text/plain": [
       "        loan_amnt  funded_amnt        term  int_rate grade  annual_inc  \\\n",
       "26203      6000.0       6000.0   36 months      7.88     A     70000.0   \n",
       "240702    20000.0      20000.0   60 months     14.99     C     42000.0   \n",
       "22291     10000.0      10000.0   36 months      5.79     A     24000.0   \n",
       "814408    15000.0      15000.0   60 months     21.67     E     45200.0   \n",
       "174982     9600.0       9600.0   36 months     15.80     C     52000.0   \n",
       "746998    30000.0      30000.0   60 months     10.99     B     98000.0   \n",
       "\n",
       "         issue_d loan_status    dti  revol_bal   total_pymnt  \n",
       "26203   Sep-2010  Fully Paid   0.00        0.0   6755.960000  \n",
       "240702  Dec-2014  Fully Paid   0.00        0.0  20074.960000  \n",
       "22291   Dec-2010  Fully Paid   0.00        0.0  10914.290000  \n",
       "814408  Mar-2015     Current  29.90    10137.0   4096.740000  \n",
       "174982  Jan-2013  Fully Paid  22.06     8379.0  11621.816625  \n",
       "746998  Jun-2015     Current  18.47    99379.0   4439.460000  "
      ]
     },
     "execution_count": 57,
     "metadata": {},
     "output_type": "execute_result"
    }
   ],
   "source": [
    "A.append(B)"
   ]
  },
  {
   "cell_type": "code",
   "execution_count": 58,
   "metadata": {},
   "outputs": [],
   "source": [
    "#Seems ok, and from the defenition:\n",
    "#A ratio calculated using the co-borrowers' \n",
    "#total monthly payments on the total debt obligations,\n",
    "#excluding mortgages and the requested LC loan, divided by the co-borrowers'\n",
    "#combined self-reported monthly income\n",
    "#seems likely to just be customers with no other debt obligations. "
   ]
  },
  {
   "cell_type": "code",
   "execution_count": 59,
   "metadata": {},
   "outputs": [],
   "source": [
    "#Now, how many loans exactly \"Do not meet the credit policy\""
   ]
  },
  {
   "cell_type": "code",
   "execution_count": 60,
   "metadata": {},
   "outputs": [
    {
     "data": {
      "text/plain": [
       "761"
      ]
     },
     "execution_count": 60,
     "metadata": {},
     "output_type": "execute_result"
    }
   ],
   "source": [
    "(raw_data[\"loan_status\"] == 'Does not meet the credit policy. Status:Charged Off').sum()"
   ]
  },
  {
   "cell_type": "code",
   "execution_count": 61,
   "metadata": {},
   "outputs": [
    {
     "data": {
      "text/plain": [
       "1988"
      ]
     },
     "execution_count": 61,
     "metadata": {},
     "output_type": "execute_result"
    }
   ],
   "source": [
    "(raw_data[\"loan_status\"] == 'Does not meet the credit policy. Status:Fully Paid').sum()"
   ]
  },
  {
   "cell_type": "code",
   "execution_count": 62,
   "metadata": {},
   "outputs": [],
   "source": [
    "#Seems safe enough to remove these, they represent a very small number of cases compared to the overall dataset."
   ]
  },
  {
   "cell_type": "markdown",
   "metadata": {},
   "source": [
    "### Correlatations"
   ]
  },
  {
   "cell_type": "code",
   "execution_count": 63,
   "metadata": {},
   "outputs": [],
   "source": [
    "#Let's take a look at the correlations, and see if any variables are very correlated right off the bat.\n",
    "#2 Variables that are strongly correlated (and essentially carry the same information) can mess with\n",
    "# Logistic Regression, so it's important to take a look. "
   ]
  },
  {
   "cell_type": "markdown",
   "metadata": {},
   "source": [
    "<a href=\"#back2\" name=\"2\">(↑)</a> Correlation between loan_amnt and funded_amnt"
   ]
  },
  {
   "cell_type": "code",
   "execution_count": 64,
   "metadata": {
    "scrolled": false
   },
   "outputs": [
    {
     "data": {
      "text/html": [
       "<div>\n",
       "<style scoped>\n",
       "    .dataframe tbody tr th:only-of-type {\n",
       "        vertical-align: middle;\n",
       "    }\n",
       "\n",
       "    .dataframe tbody tr th {\n",
       "        vertical-align: top;\n",
       "    }\n",
       "\n",
       "    .dataframe thead th {\n",
       "        text-align: right;\n",
       "    }\n",
       "</style>\n",
       "<table border=\"1\" class=\"dataframe\">\n",
       "  <thead>\n",
       "    <tr style=\"text-align: right;\">\n",
       "      <th></th>\n",
       "      <th>loan_amnt</th>\n",
       "      <th>funded_amnt</th>\n",
       "      <th>int_rate</th>\n",
       "      <th>annual_inc</th>\n",
       "      <th>dti</th>\n",
       "      <th>revol_bal</th>\n",
       "      <th>total_pymnt</th>\n",
       "    </tr>\n",
       "  </thead>\n",
       "  <tbody>\n",
       "    <tr>\n",
       "      <th>loan_amnt</th>\n",
       "      <td>1.000000</td>\n",
       "      <td>0.999263</td>\n",
       "      <td>0.145023</td>\n",
       "      <td>0.332698</td>\n",
       "      <td>0.020675</td>\n",
       "      <td>0.333580</td>\n",
       "      <td>0.474626</td>\n",
       "    </tr>\n",
       "    <tr>\n",
       "      <th>funded_amnt</th>\n",
       "      <td>0.999263</td>\n",
       "      <td>1.000000</td>\n",
       "      <td>0.145160</td>\n",
       "      <td>0.332466</td>\n",
       "      <td>0.021075</td>\n",
       "      <td>0.333435</td>\n",
       "      <td>0.473286</td>\n",
       "    </tr>\n",
       "    <tr>\n",
       "      <th>int_rate</th>\n",
       "      <td>0.145023</td>\n",
       "      <td>0.145160</td>\n",
       "      <td>1.000000</td>\n",
       "      <td>-0.072786</td>\n",
       "      <td>0.079903</td>\n",
       "      <td>-0.035708</td>\n",
       "      <td>0.170506</td>\n",
       "    </tr>\n",
       "    <tr>\n",
       "      <th>annual_inc</th>\n",
       "      <td>0.332698</td>\n",
       "      <td>0.332466</td>\n",
       "      <td>-0.072786</td>\n",
       "      <td>1.000000</td>\n",
       "      <td>-0.087410</td>\n",
       "      <td>0.295784</td>\n",
       "      <td>0.160879</td>\n",
       "    </tr>\n",
       "    <tr>\n",
       "      <th>dti</th>\n",
       "      <td>0.020675</td>\n",
       "      <td>0.021075</td>\n",
       "      <td>0.079903</td>\n",
       "      <td>-0.087410</td>\n",
       "      <td>1.000000</td>\n",
       "      <td>0.067277</td>\n",
       "      <td>-0.041529</td>\n",
       "    </tr>\n",
       "    <tr>\n",
       "      <th>revol_bal</th>\n",
       "      <td>0.333580</td>\n",
       "      <td>0.333435</td>\n",
       "      <td>-0.035708</td>\n",
       "      <td>0.295784</td>\n",
       "      <td>0.067277</td>\n",
       "      <td>1.000000</td>\n",
       "      <td>0.138328</td>\n",
       "    </tr>\n",
       "    <tr>\n",
       "      <th>total_pymnt</th>\n",
       "      <td>0.474626</td>\n",
       "      <td>0.473286</td>\n",
       "      <td>0.170506</td>\n",
       "      <td>0.160879</td>\n",
       "      <td>-0.041529</td>\n",
       "      <td>0.138328</td>\n",
       "      <td>1.000000</td>\n",
       "    </tr>\n",
       "  </tbody>\n",
       "</table>\n",
       "</div>"
      ],
      "text/plain": [
       "             loan_amnt  funded_amnt  int_rate  annual_inc       dti  \\\n",
       "loan_amnt     1.000000     0.999263  0.145023    0.332698  0.020675   \n",
       "funded_amnt   0.999263     1.000000  0.145160    0.332466  0.021075   \n",
       "int_rate      0.145023     0.145160  1.000000   -0.072786  0.079903   \n",
       "annual_inc    0.332698     0.332466 -0.072786    1.000000 -0.087410   \n",
       "dti           0.020675     0.021075  0.079903   -0.087410  1.000000   \n",
       "revol_bal     0.333580     0.333435 -0.035708    0.295784  0.067277   \n",
       "total_pymnt   0.474626     0.473286  0.170506    0.160879 -0.041529   \n",
       "\n",
       "             revol_bal  total_pymnt  \n",
       "loan_amnt     0.333580     0.474626  \n",
       "funded_amnt   0.333435     0.473286  \n",
       "int_rate     -0.035708     0.170506  \n",
       "annual_inc    0.295784     0.160879  \n",
       "dti           0.067277    -0.041529  \n",
       "revol_bal     1.000000     0.138328  \n",
       "total_pymnt   0.138328     1.000000  "
      ]
     },
     "execution_count": 64,
     "metadata": {},
     "output_type": "execute_result"
    }
   ],
   "source": [
    "raw_data.corr(method=\"pearson\") #A good start, but can be biased by outliers"
   ]
  },
  {
   "cell_type": "code",
   "execution_count": 65,
   "metadata": {},
   "outputs": [],
   "source": [
    "#Conclusions here: loan_amnt and funded_amnt correlate too well for logistic regression.\n",
    "#The loan_amnt variable is described as:\n",
    "\n",
    "#The listed amount of the loan applied for by the borrower. \n",
    "#If at some point in time, the credit department reduces the \n",
    "#loan amount, then it will be reflected in this value.\n",
    "\n",
    "#The funded_amnt is described as the committed to the loand at that point in time.\n",
    "#It seems to make sense to replace loan_amnt with a \"reduced by\" variable."
   ]
  },
  {
   "cell_type": "code",
   "execution_count": 66,
   "metadata": {},
   "outputs": [],
   "source": [
    "#It will be useful to have some ordinal encodings for the spearman analysis, and in general\n",
    "# (I made up some encodings for loan_status that seemed to make sense)\n",
    "ordinal_encodings = {\n",
    "    \"grade\" : {chr(65+i):i for i in range(7)},\n",
    "    \"term\" : {\" 36 months\":0,\" 60 months\": 1},\n",
    "    \"loan_status\":{'Charged Off':0,\n",
    "                   'Current': 2,\n",
    "                   'Default': 0,\n",
    "                   'Does not meet the credit policy. Status:Charged Off': 0,\n",
    "                   'Does not meet the credit policy. Status:Fully Paid': 0,\n",
    "                   'Fully Paid': 2,\n",
    "                   'In Grace Period': 1,\n",
    "                   'Issued': 2,\n",
    "                   'Late (16-30 days)': 1,\n",
    "                   'Late (31-120 days)': 1\n",
    "    }\n",
    "    \n",
    "}\n",
    "spear_data = raw_data.copy()\n",
    "spear_data[\"grade\"] = raw_data[\"grade\"].apply(lambda x: ordinal_encodings[\"grade\"][x])\n",
    "spear_data[\"term\"] = raw_data[\"term\"].apply(lambda x: ordinal_encodings[\"term\"][x])\n",
    "spear_data[\"loan_status\"] = raw_data[\"loan_status\"].apply(lambda x: ordinal_encodings[\"loan_status\"][x])"
   ]
  },
  {
   "cell_type": "code",
   "execution_count": 67,
   "metadata": {
    "scrolled": false
   },
   "outputs": [
    {
     "data": {
      "text/html": [
       "<div>\n",
       "<style scoped>\n",
       "    .dataframe tbody tr th:only-of-type {\n",
       "        vertical-align: middle;\n",
       "    }\n",
       "\n",
       "    .dataframe tbody tr th {\n",
       "        vertical-align: top;\n",
       "    }\n",
       "\n",
       "    .dataframe thead th {\n",
       "        text-align: right;\n",
       "    }\n",
       "</style>\n",
       "<table border=\"1\" class=\"dataframe\">\n",
       "  <thead>\n",
       "    <tr style=\"text-align: right;\">\n",
       "      <th></th>\n",
       "      <th>loan_amnt</th>\n",
       "      <th>funded_amnt</th>\n",
       "      <th>term</th>\n",
       "      <th>int_rate</th>\n",
       "      <th>grade</th>\n",
       "      <th>annual_inc</th>\n",
       "      <th>loan_status</th>\n",
       "      <th>dti</th>\n",
       "      <th>revol_bal</th>\n",
       "      <th>total_pymnt</th>\n",
       "    </tr>\n",
       "  </thead>\n",
       "  <tbody>\n",
       "    <tr>\n",
       "      <th>loan_amnt</th>\n",
       "      <td>1.000000</td>\n",
       "      <td>0.999368</td>\n",
       "      <td>0.440779</td>\n",
       "      <td>0.116829</td>\n",
       "      <td>0.119229</td>\n",
       "      <td>0.504496</td>\n",
       "      <td>0.003909</td>\n",
       "      <td>0.056072</td>\n",
       "      <td>0.499924</td>\n",
       "      <td>0.419696</td>\n",
       "    </tr>\n",
       "    <tr>\n",
       "      <th>funded_amnt</th>\n",
       "      <td>0.999368</td>\n",
       "      <td>1.000000</td>\n",
       "      <td>0.440037</td>\n",
       "      <td>0.117159</td>\n",
       "      <td>0.119318</td>\n",
       "      <td>0.504197</td>\n",
       "      <td>0.004729</td>\n",
       "      <td>0.056831</td>\n",
       "      <td>0.499784</td>\n",
       "      <td>0.418562</td>\n",
       "    </tr>\n",
       "    <tr>\n",
       "      <th>term</th>\n",
       "      <td>0.440779</td>\n",
       "      <td>0.440037</td>\n",
       "      <td>1.000000</td>\n",
       "      <td>0.415687</td>\n",
       "      <td>0.430676</td>\n",
       "      <td>0.134927</td>\n",
       "      <td>-0.035024</td>\n",
       "      <td>0.105601</td>\n",
       "      <td>0.176064</td>\n",
       "      <td>0.059784</td>\n",
       "    </tr>\n",
       "    <tr>\n",
       "      <th>int_rate</th>\n",
       "      <td>0.116829</td>\n",
       "      <td>0.117159</td>\n",
       "      <td>0.415687</td>\n",
       "      <td>1.000000</td>\n",
       "      <td>0.952441</td>\n",
       "      <td>-0.122830</td>\n",
       "      <td>-0.170250</td>\n",
       "      <td>0.164973</td>\n",
       "      <td>-0.031969</td>\n",
       "      <td>0.151513</td>\n",
       "    </tr>\n",
       "    <tr>\n",
       "      <th>grade</th>\n",
       "      <td>0.119229</td>\n",
       "      <td>0.119318</td>\n",
       "      <td>0.430676</td>\n",
       "      <td>0.952441</td>\n",
       "      <td>1.000000</td>\n",
       "      <td>-0.114977</td>\n",
       "      <td>-0.147731</td>\n",
       "      <td>0.172572</td>\n",
       "      <td>-0.034983</td>\n",
       "      <td>0.040187</td>\n",
       "    </tr>\n",
       "    <tr>\n",
       "      <th>annual_inc</th>\n",
       "      <td>0.504496</td>\n",
       "      <td>0.504197</td>\n",
       "      <td>0.134927</td>\n",
       "      <td>-0.122830</td>\n",
       "      <td>-0.114977</td>\n",
       "      <td>1.000000</td>\n",
       "      <td>0.058265</td>\n",
       "      <td>-0.210363</td>\n",
       "      <td>0.411213</td>\n",
       "      <td>0.216266</td>\n",
       "    </tr>\n",
       "    <tr>\n",
       "      <th>loan_status</th>\n",
       "      <td>0.003909</td>\n",
       "      <td>0.004729</td>\n",
       "      <td>-0.035024</td>\n",
       "      <td>-0.170250</td>\n",
       "      <td>-0.147731</td>\n",
       "      <td>0.058265</td>\n",
       "      <td>1.000000</td>\n",
       "      <td>-0.019967</td>\n",
       "      <td>0.023268</td>\n",
       "      <td>0.001334</td>\n",
       "    </tr>\n",
       "    <tr>\n",
       "      <th>dti</th>\n",
       "      <td>0.056072</td>\n",
       "      <td>0.056831</td>\n",
       "      <td>0.105601</td>\n",
       "      <td>0.164973</td>\n",
       "      <td>0.172572</td>\n",
       "      <td>-0.210363</td>\n",
       "      <td>-0.019967</td>\n",
       "      <td>1.000000</td>\n",
       "      <td>0.247720</td>\n",
       "      <td>-0.083429</td>\n",
       "    </tr>\n",
       "    <tr>\n",
       "      <th>revol_bal</th>\n",
       "      <td>0.499924</td>\n",
       "      <td>0.499784</td>\n",
       "      <td>0.176064</td>\n",
       "      <td>-0.031969</td>\n",
       "      <td>-0.034983</td>\n",
       "      <td>0.411213</td>\n",
       "      <td>0.023268</td>\n",
       "      <td>0.247720</td>\n",
       "      <td>1.000000</td>\n",
       "      <td>0.211530</td>\n",
       "    </tr>\n",
       "    <tr>\n",
       "      <th>total_pymnt</th>\n",
       "      <td>0.419696</td>\n",
       "      <td>0.418562</td>\n",
       "      <td>0.059784</td>\n",
       "      <td>0.151513</td>\n",
       "      <td>0.040187</td>\n",
       "      <td>0.216266</td>\n",
       "      <td>0.001334</td>\n",
       "      <td>-0.083429</td>\n",
       "      <td>0.211530</td>\n",
       "      <td>1.000000</td>\n",
       "    </tr>\n",
       "  </tbody>\n",
       "</table>\n",
       "</div>"
      ],
      "text/plain": [
       "             loan_amnt  funded_amnt      term  int_rate     grade  annual_inc  \\\n",
       "loan_amnt     1.000000     0.999368  0.440779  0.116829  0.119229    0.504496   \n",
       "funded_amnt   0.999368     1.000000  0.440037  0.117159  0.119318    0.504197   \n",
       "term          0.440779     0.440037  1.000000  0.415687  0.430676    0.134927   \n",
       "int_rate      0.116829     0.117159  0.415687  1.000000  0.952441   -0.122830   \n",
       "grade         0.119229     0.119318  0.430676  0.952441  1.000000   -0.114977   \n",
       "annual_inc    0.504496     0.504197  0.134927 -0.122830 -0.114977    1.000000   \n",
       "loan_status   0.003909     0.004729 -0.035024 -0.170250 -0.147731    0.058265   \n",
       "dti           0.056072     0.056831  0.105601  0.164973  0.172572   -0.210363   \n",
       "revol_bal     0.499924     0.499784  0.176064 -0.031969 -0.034983    0.411213   \n",
       "total_pymnt   0.419696     0.418562  0.059784  0.151513  0.040187    0.216266   \n",
       "\n",
       "             loan_status       dti  revol_bal  total_pymnt  \n",
       "loan_amnt       0.003909  0.056072   0.499924     0.419696  \n",
       "funded_amnt     0.004729  0.056831   0.499784     0.418562  \n",
       "term           -0.035024  0.105601   0.176064     0.059784  \n",
       "int_rate       -0.170250  0.164973  -0.031969     0.151513  \n",
       "grade          -0.147731  0.172572  -0.034983     0.040187  \n",
       "annual_inc      0.058265 -0.210363   0.411213     0.216266  \n",
       "loan_status     1.000000 -0.019967   0.023268     0.001334  \n",
       "dti            -0.019967  1.000000   0.247720    -0.083429  \n",
       "revol_bal       0.023268  0.247720   1.000000     0.211530  \n",
       "total_pymnt     0.001334 -0.083429   0.211530     1.000000  "
      ]
     },
     "execution_count": 67,
     "metadata": {},
     "output_type": "execute_result"
    }
   ],
   "source": [
    "spear_data.corr(method=\"spearman\") #Works well with ordinal values, but poorly for clusters"
   ]
  },
  {
   "cell_type": "markdown",
   "metadata": {},
   "source": [
    "<a href=\"#back26\" name=\"26\">(↑)</a> Correlation between grade and int_rate"
   ]
  },
  {
   "cell_type": "code",
   "execution_count": 68,
   "metadata": {},
   "outputs": [],
   "source": [
    "#Conclusions here: grade and int_rate correlate very well, perhaps grade should be removed from the final regression."
   ]
  },
  {
   "cell_type": "code",
   "execution_count": 69,
   "metadata": {},
   "outputs": [],
   "source": [
    "#Now let's have a look at the correlations after variables have been replaced, and data cleaned"
   ]
  },
  {
   "cell_type": "code",
   "execution_count": 70,
   "metadata": {},
   "outputs": [
    {
     "data": {
      "text/html": [
       "<div>\n",
       "<style scoped>\n",
       "    .dataframe tbody tr th:only-of-type {\n",
       "        vertical-align: middle;\n",
       "    }\n",
       "\n",
       "    .dataframe tbody tr th {\n",
       "        vertical-align: top;\n",
       "    }\n",
       "\n",
       "    .dataframe thead th {\n",
       "        text-align: right;\n",
       "    }\n",
       "</style>\n",
       "<table border=\"1\" class=\"dataframe\">\n",
       "  <thead>\n",
       "    <tr style=\"text-align: right;\">\n",
       "      <th></th>\n",
       "      <th>funded_amnt</th>\n",
       "      <th>int_rate</th>\n",
       "      <th>annual_inc</th>\n",
       "      <th>dti</th>\n",
       "      <th>revol_bal</th>\n",
       "      <th>total_pymnt</th>\n",
       "      <th>reduced_by</th>\n",
       "      <th>defaulted</th>\n",
       "    </tr>\n",
       "  </thead>\n",
       "  <tbody>\n",
       "    <tr>\n",
       "      <th>funded_amnt</th>\n",
       "      <td>1.000000</td>\n",
       "      <td>0.181270</td>\n",
       "      <td>0.283016</td>\n",
       "      <td>0.369983</td>\n",
       "      <td>0.324279</td>\n",
       "      <td>0.934982</td>\n",
       "      <td>0.000393</td>\n",
       "      <td>-0.000791</td>\n",
       "    </tr>\n",
       "    <tr>\n",
       "      <th>int_rate</th>\n",
       "      <td>0.181270</td>\n",
       "      <td>1.000000</td>\n",
       "      <td>0.005259</td>\n",
       "      <td>0.138565</td>\n",
       "      <td>0.064306</td>\n",
       "      <td>0.195756</td>\n",
       "      <td>-0.050624</td>\n",
       "      <td>0.149523</td>\n",
       "    </tr>\n",
       "    <tr>\n",
       "      <th>annual_inc</th>\n",
       "      <td>0.283016</td>\n",
       "      <td>0.005259</td>\n",
       "      <td>1.000000</td>\n",
       "      <td>0.426825</td>\n",
       "      <td>0.340182</td>\n",
       "      <td>0.275553</td>\n",
       "      <td>0.029468</td>\n",
       "      <td>-0.050938</td>\n",
       "    </tr>\n",
       "    <tr>\n",
       "      <th>dti</th>\n",
       "      <td>0.369983</td>\n",
       "      <td>0.138565</td>\n",
       "      <td>0.426825</td>\n",
       "      <td>1.000000</td>\n",
       "      <td>0.522167</td>\n",
       "      <td>0.364862</td>\n",
       "      <td>0.014182</td>\n",
       "      <td>-0.022324</td>\n",
       "    </tr>\n",
       "    <tr>\n",
       "      <th>revol_bal</th>\n",
       "      <td>0.324279</td>\n",
       "      <td>0.064306</td>\n",
       "      <td>0.340182</td>\n",
       "      <td>0.522167</td>\n",
       "      <td>1.000000</td>\n",
       "      <td>0.313566</td>\n",
       "      <td>0.045728</td>\n",
       "      <td>-0.014869</td>\n",
       "    </tr>\n",
       "    <tr>\n",
       "      <th>total_pymnt</th>\n",
       "      <td>0.934982</td>\n",
       "      <td>0.195756</td>\n",
       "      <td>0.275553</td>\n",
       "      <td>0.364862</td>\n",
       "      <td>0.313566</td>\n",
       "      <td>1.000000</td>\n",
       "      <td>-0.001121</td>\n",
       "      <td>-0.244972</td>\n",
       "    </tr>\n",
       "    <tr>\n",
       "      <th>reduced_by</th>\n",
       "      <td>0.000393</td>\n",
       "      <td>-0.050624</td>\n",
       "      <td>0.029468</td>\n",
       "      <td>0.014182</td>\n",
       "      <td>0.045728</td>\n",
       "      <td>-0.001121</td>\n",
       "      <td>1.000000</td>\n",
       "      <td>-0.003237</td>\n",
       "    </tr>\n",
       "    <tr>\n",
       "      <th>defaulted</th>\n",
       "      <td>-0.000791</td>\n",
       "      <td>0.149523</td>\n",
       "      <td>-0.050938</td>\n",
       "      <td>-0.022324</td>\n",
       "      <td>-0.014869</td>\n",
       "      <td>-0.244972</td>\n",
       "      <td>-0.003237</td>\n",
       "      <td>1.000000</td>\n",
       "    </tr>\n",
       "  </tbody>\n",
       "</table>\n",
       "</div>"
      ],
      "text/plain": [
       "             funded_amnt  int_rate  annual_inc       dti  revol_bal  \\\n",
       "funded_amnt     1.000000  0.181270    0.283016  0.369983   0.324279   \n",
       "int_rate        0.181270  1.000000    0.005259  0.138565   0.064306   \n",
       "annual_inc      0.283016  0.005259    1.000000  0.426825   0.340182   \n",
       "dti             0.369983  0.138565    0.426825  1.000000   0.522167   \n",
       "revol_bal       0.324279  0.064306    0.340182  0.522167   1.000000   \n",
       "total_pymnt     0.934982  0.195756    0.275553  0.364862   0.313566   \n",
       "reduced_by      0.000393 -0.050624    0.029468  0.014182   0.045728   \n",
       "defaulted      -0.000791  0.149523   -0.050938 -0.022324  -0.014869   \n",
       "\n",
       "             total_pymnt  reduced_by  defaulted  \n",
       "funded_amnt     0.934982    0.000393  -0.000791  \n",
       "int_rate        0.195756   -0.050624   0.149523  \n",
       "annual_inc      0.275553    0.029468  -0.050938  \n",
       "dti             0.364862    0.014182  -0.022324  \n",
       "revol_bal       0.313566    0.045728  -0.014869  \n",
       "total_pymnt     1.000000   -0.001121  -0.244972  \n",
       "reduced_by     -0.001121    1.000000  -0.003237  \n",
       "defaulted      -0.244972   -0.003237   1.000000  "
      ]
     },
     "execution_count": 70,
     "metadata": {},
     "output_type": "execute_result"
    }
   ],
   "source": [
    "cat[\"reduced_by\"] = False # Update the cat dictionary\n",
    "data.corr(method=\"pearson\")"
   ]
  },
  {
   "cell_type": "code",
   "execution_count": 71,
   "metadata": {
    "scrolled": true
   },
   "outputs": [
    {
     "data": {
      "text/html": [
       "<div>\n",
       "<style scoped>\n",
       "    .dataframe tbody tr th:only-of-type {\n",
       "        vertical-align: middle;\n",
       "    }\n",
       "\n",
       "    .dataframe tbody tr th {\n",
       "        vertical-align: top;\n",
       "    }\n",
       "\n",
       "    .dataframe thead th {\n",
       "        text-align: right;\n",
       "    }\n",
       "</style>\n",
       "<table border=\"1\" class=\"dataframe\">\n",
       "  <thead>\n",
       "    <tr style=\"text-align: right;\">\n",
       "      <th></th>\n",
       "      <th>funded_amnt</th>\n",
       "      <th>int_rate</th>\n",
       "      <th>grade</th>\n",
       "      <th>annual_inc</th>\n",
       "      <th>loan_status</th>\n",
       "      <th>dti</th>\n",
       "      <th>revol_bal</th>\n",
       "      <th>total_pymnt</th>\n",
       "      <th>reduced_by</th>\n",
       "      <th>defaulted</th>\n",
       "    </tr>\n",
       "  </thead>\n",
       "  <tbody>\n",
       "    <tr>\n",
       "      <th>funded_amnt</th>\n",
       "      <td>1.000000</td>\n",
       "      <td>0.153043</td>\n",
       "      <td>0.123831</td>\n",
       "      <td>0.406388</td>\n",
       "      <td>0.000655</td>\n",
       "      <td>0.354798</td>\n",
       "      <td>0.413662</td>\n",
       "      <td>0.917523</td>\n",
       "      <td>-0.005651</td>\n",
       "      <td>0.000039</td>\n",
       "    </tr>\n",
       "    <tr>\n",
       "      <th>int_rate</th>\n",
       "      <td>0.153043</td>\n",
       "      <td>1.000000</td>\n",
       "      <td>0.932140</td>\n",
       "      <td>-0.006104</td>\n",
       "      <td>-0.148540</td>\n",
       "      <td>0.136938</td>\n",
       "      <td>0.134100</td>\n",
       "      <td>0.150195</td>\n",
       "      <td>-0.073550</td>\n",
       "      <td>0.149093</td>\n",
       "    </tr>\n",
       "    <tr>\n",
       "      <th>grade</th>\n",
       "      <td>0.123831</td>\n",
       "      <td>0.932140</td>\n",
       "      <td>1.000000</td>\n",
       "      <td>-0.006904</td>\n",
       "      <td>-0.142814</td>\n",
       "      <td>0.100537</td>\n",
       "      <td>0.102959</td>\n",
       "      <td>0.120790</td>\n",
       "      <td>-0.041325</td>\n",
       "      <td>0.143092</td>\n",
       "    </tr>\n",
       "    <tr>\n",
       "      <th>annual_inc</th>\n",
       "      <td>0.406388</td>\n",
       "      <td>-0.006104</td>\n",
       "      <td>-0.006904</td>\n",
       "      <td>1.000000</td>\n",
       "      <td>0.087416</td>\n",
       "      <td>0.578076</td>\n",
       "      <td>0.379855</td>\n",
       "      <td>0.395207</td>\n",
       "      <td>0.033681</td>\n",
       "      <td>-0.086604</td>\n",
       "    </tr>\n",
       "    <tr>\n",
       "      <th>loan_status</th>\n",
       "      <td>0.000655</td>\n",
       "      <td>-0.148540</td>\n",
       "      <td>-0.142814</td>\n",
       "      <td>0.087416</td>\n",
       "      <td>1.000000</td>\n",
       "      <td>0.018325</td>\n",
       "      <td>0.010177</td>\n",
       "      <td>0.296435</td>\n",
       "      <td>0.005225</td>\n",
       "      <td>-0.997855</td>\n",
       "    </tr>\n",
       "    <tr>\n",
       "      <th>dti</th>\n",
       "      <td>0.354798</td>\n",
       "      <td>0.136938</td>\n",
       "      <td>0.100537</td>\n",
       "      <td>0.578076</td>\n",
       "      <td>0.018325</td>\n",
       "      <td>1.000000</td>\n",
       "      <td>0.548834</td>\n",
       "      <td>0.340626</td>\n",
       "      <td>0.000982</td>\n",
       "      <td>-0.017096</td>\n",
       "    </tr>\n",
       "    <tr>\n",
       "      <th>revol_bal</th>\n",
       "      <td>0.413662</td>\n",
       "      <td>0.134100</td>\n",
       "      <td>0.102959</td>\n",
       "      <td>0.379855</td>\n",
       "      <td>0.010177</td>\n",
       "      <td>0.548834</td>\n",
       "      <td>1.000000</td>\n",
       "      <td>0.393075</td>\n",
       "      <td>0.028100</td>\n",
       "      <td>-0.009370</td>\n",
       "    </tr>\n",
       "    <tr>\n",
       "      <th>total_pymnt</th>\n",
       "      <td>0.917523</td>\n",
       "      <td>0.150195</td>\n",
       "      <td>0.120790</td>\n",
       "      <td>0.395207</td>\n",
       "      <td>0.296435</td>\n",
       "      <td>0.340626</td>\n",
       "      <td>0.393075</td>\n",
       "      <td>1.000000</td>\n",
       "      <td>-0.008046</td>\n",
       "      <td>-0.294637</td>\n",
       "    </tr>\n",
       "    <tr>\n",
       "      <th>reduced_by</th>\n",
       "      <td>-0.005651</td>\n",
       "      <td>-0.073550</td>\n",
       "      <td>-0.041325</td>\n",
       "      <td>0.033681</td>\n",
       "      <td>0.005225</td>\n",
       "      <td>0.000982</td>\n",
       "      <td>0.028100</td>\n",
       "      <td>-0.008046</td>\n",
       "      <td>1.000000</td>\n",
       "      <td>-0.005403</td>\n",
       "    </tr>\n",
       "    <tr>\n",
       "      <th>defaulted</th>\n",
       "      <td>0.000039</td>\n",
       "      <td>0.149093</td>\n",
       "      <td>0.143092</td>\n",
       "      <td>-0.086604</td>\n",
       "      <td>-0.997855</td>\n",
       "      <td>-0.017096</td>\n",
       "      <td>-0.009370</td>\n",
       "      <td>-0.294637</td>\n",
       "      <td>-0.005403</td>\n",
       "      <td>1.000000</td>\n",
       "    </tr>\n",
       "  </tbody>\n",
       "</table>\n",
       "</div>"
      ],
      "text/plain": [
       "             funded_amnt  int_rate     grade  annual_inc  loan_status  \\\n",
       "funded_amnt     1.000000  0.153043  0.123831    0.406388     0.000655   \n",
       "int_rate        0.153043  1.000000  0.932140   -0.006104    -0.148540   \n",
       "grade           0.123831  0.932140  1.000000   -0.006904    -0.142814   \n",
       "annual_inc      0.406388 -0.006104 -0.006904    1.000000     0.087416   \n",
       "loan_status     0.000655 -0.148540 -0.142814    0.087416     1.000000   \n",
       "dti             0.354798  0.136938  0.100537    0.578076     0.018325   \n",
       "revol_bal       0.413662  0.134100  0.102959    0.379855     0.010177   \n",
       "total_pymnt     0.917523  0.150195  0.120790    0.395207     0.296435   \n",
       "reduced_by     -0.005651 -0.073550 -0.041325    0.033681     0.005225   \n",
       "defaulted       0.000039  0.149093  0.143092   -0.086604    -0.997855   \n",
       "\n",
       "                  dti  revol_bal  total_pymnt  reduced_by  defaulted  \n",
       "funded_amnt  0.354798   0.413662     0.917523   -0.005651   0.000039  \n",
       "int_rate     0.136938   0.134100     0.150195   -0.073550   0.149093  \n",
       "grade        0.100537   0.102959     0.120790   -0.041325   0.143092  \n",
       "annual_inc   0.578076   0.379855     0.395207    0.033681  -0.086604  \n",
       "loan_status  0.018325   0.010177     0.296435    0.005225  -0.997855  \n",
       "dti          1.000000   0.548834     0.340626    0.000982  -0.017096  \n",
       "revol_bal    0.548834   1.000000     0.393075    0.028100  -0.009370  \n",
       "total_pymnt  0.340626   0.393075     1.000000   -0.008046  -0.294637  \n",
       "reduced_by   0.000982   0.028100    -0.008046    1.000000  -0.005403  \n",
       "defaulted   -0.017096  -0.009370    -0.294637   -0.005403   1.000000  "
      ]
     },
     "execution_count": 71,
     "metadata": {},
     "output_type": "execute_result"
    }
   ],
   "source": [
    "spear_data = data.copy()\n",
    "spear_data[\"grade\"] = data[\"grade\"].apply(lambda x: ordinal_encodings[\"grade\"][x])\n",
    "spear_data[\"loan_status\"] = data[\"loan_status\"].apply(lambda x: ordinal_encodings[\"loan_status\"][x])\n",
    "spear_data.corr(method=\"spearman\") "
   ]
  },
  {
   "cell_type": "markdown",
   "metadata": {},
   "source": [
    "### Feature Distributions"
   ]
  },
  {
   "cell_type": "markdown",
   "metadata": {},
   "source": [
    "<a href=\"#back6\" name=\"6\">(↑)</a> **funded_amnt**"
   ]
  },
  {
   "cell_type": "code",
   "execution_count": 72,
   "metadata": {},
   "outputs": [
    {
     "data": {
      "image/png": "[encoded data removed]",
      "text/plain": [
       "<Figure size 432x288 with 1 Axes>"
      ]
     },
     "metadata": {
      "needs_background": "light"
     },
     "output_type": "display_data"
    }
   ],
   "source": [
    "raw_data['funded_amnt'].plot(kind=\"hist\", bins= 100);"
   ]
  },
  {
   "cell_type": "code",
   "execution_count": 73,
   "metadata": {},
   "outputs": [
    {
     "data": {
      "text/plain": [
       "14741.877625005776"
      ]
     },
     "execution_count": 73,
     "metadata": {},
     "output_type": "execute_result"
    }
   ],
   "source": [
    "np.mean(raw_data['funded_amnt'])"
   ]
  },
  {
   "cell_type": "markdown",
   "metadata": {},
   "source": [
    "<a href=\"#back7\" name=\"7\">(↑)</a>   **loan_amnt**"
   ]
  },
  {
   "cell_type": "code",
   "execution_count": 74,
   "metadata": {
    "scrolled": true
   },
   "outputs": [
    {
     "data": {
      "image/png": "[encoded data removed]",
      "text/plain": [
       "<Figure size 432x288 with 1 Axes>"
      ]
     },
     "metadata": {
      "needs_background": "light"
     },
     "output_type": "display_data"
    }
   ],
   "source": [
    "raw_data['loan_amnt'].plot(kind=\"hist\", bins= 100);"
   ]
  },
  {
   "cell_type": "code",
   "execution_count": 75,
   "metadata": {},
   "outputs": [
    {
     "data": {
      "text/plain": [
       "14755.26460508982"
      ]
     },
     "execution_count": 75,
     "metadata": {},
     "output_type": "execute_result"
    }
   ],
   "source": [
    "np.mean(raw_data['loan_amnt'])"
   ]
  },
  {
   "cell_type": "markdown",
   "metadata": {},
   "source": [
    "<a href=\"#back8\" name=\"8\">(↑)</a>   **term**"
   ]
  },
  {
   "cell_type": "code",
   "execution_count": 76,
   "metadata": {
    "scrolled": true
   },
   "outputs": [
    {
     "data": {
      "image/png": "[encoded data removed]",
      "text/plain": [
       "<Figure size 432x288 with 1 Axes>"
      ]
     },
     "metadata": {
      "needs_background": "light"
     },
     "output_type": "display_data"
    }
   ],
   "source": [
    "raw_data[\"term\"].value_counts().plot(kind=\"bar\");"
   ]
  },
  {
   "cell_type": "markdown",
   "metadata": {},
   "source": [
    "<a href=\"#back9\" name=\"9\">(↑)</a>   **int_rate**"
   ]
  },
  {
   "cell_type": "code",
   "execution_count": 77,
   "metadata": {
    "scrolled": true
   },
   "outputs": [
    {
     "data": {
      "image/png": "[encoded data removed]",
      "text/plain": [
       "<Figure size 432x288 with 1 Axes>"
      ]
     },
     "metadata": {
      "needs_background": "light"
     },
     "output_type": "display_data"
    }
   ],
   "source": [
    "raw_data['int_rate'].plot(kind=\"hist\", bins=100);"
   ]
  },
  {
   "cell_type": "code",
   "execution_count": 78,
   "metadata": {},
   "outputs": [
    {
     "data": {
      "text/plain": [
       "13.246739679437987"
      ]
     },
     "execution_count": 78,
     "metadata": {},
     "output_type": "execute_result"
    }
   ],
   "source": [
    "np.mean(raw_data['int_rate'])"
   ]
  },
  {
   "cell_type": "markdown",
   "metadata": {},
   "source": [
    "<a href=\"#back10\" name=\"10\">(↑)</a>   **grade**"
   ]
  },
  {
   "cell_type": "code",
   "execution_count": 79,
   "metadata": {
    "scrolled": true
   },
   "outputs": [
    {
     "data": {
      "image/png": "[encoded data removed]",
      "text/plain": [
       "<Figure size 432x288 with 1 Axes>"
      ]
     },
     "metadata": {
      "needs_background": "light"
     },
     "output_type": "display_data"
    }
   ],
   "source": [
    "raw_data[\"grade\"].value_counts().sort_index().plot(kind=\"bar\");"
   ]
  },
  {
   "cell_type": "markdown",
   "metadata": {},
   "source": [
    "<a name=\"11\"><a href=\"#back5\" name=\"5\">(↑)</a>   **annual_inc**"
   ]
  },
  {
   "cell_type": "code",
   "execution_count": 80,
   "metadata": {
    "scrolled": true
   },
   "outputs": [
    {
     "data": {
      "image/png": "[encoded data removed]",
      "text/plain": [
       "<Figure size 432x288 with 1 Axes>"
      ]
     },
     "metadata": {
      "needs_background": "light"
     },
     "output_type": "display_data"
    }
   ],
   "source": [
    "raw_data['annual_inc'].plot(kind=\"hist\", bins = 100);"
   ]
  },
  {
   "cell_type": "code",
   "execution_count": 81,
   "metadata": {},
   "outputs": [
    {
     "data": {
      "image/png": "[encoded data removed]",
      "text/plain": [
       "<Figure size 432x288 with 1 Axes>"
      ]
     },
     "metadata": {
      "needs_background": "light"
     },
     "output_type": "display_data"
    }
   ],
   "source": [
    "np.log10(raw_data['annual_inc']+1).plot(kind=\"hist\", bins = 100);"
   ]
  },
  {
   "cell_type": "code",
   "execution_count": 82,
   "metadata": {},
   "outputs": [],
   "source": [
    "#Seems to be lognormal, which is to be expected from income."
   ]
  },
  {
   "cell_type": "markdown",
   "metadata": {},
   "source": [
    "<a href=\"#back12\" name=\"12\">(↑)</a>   **issue_d**"
   ]
  },
  {
   "cell_type": "code",
   "execution_count": 83,
   "metadata": {
    "scrolled": true
   },
   "outputs": [
    {
     "data": {
      "image/png": "[encoded data removed]",
      "text/plain": [
       "<Figure size 432x288 with 1 Axes>"
      ]
     },
     "metadata": {
      "needs_background": "light"
     },
     "output_type": "display_data"
    }
   ],
   "source": [
    "dates = pd.to_datetime(raw_data[\"issue_d\"]) #Standard Conversion to datetime type\n",
    "ax = dates.value_counts().sort_index().plot(kind=\"bar\");\n",
    "ax.set_xticklabels([str(int(i/12)) if i % 12 == 0 else \"\" for i in range(2007*12,2016*12+1)]);"
   ]
  },
  {
   "cell_type": "code",
   "execution_count": 84,
   "metadata": {},
   "outputs": [
    {
     "data": {
      "image/png": "[encoded data removed]",
      "text/plain": [
       "<Figure size 432x288 with 1 Axes>"
      ]
     },
     "metadata": {
      "needs_background": "light"
     },
     "output_type": "display_data"
    }
   ],
   "source": [
    "#Let's take a look by year\n",
    "ax = dates.dt.year.value_counts().sort_index().plot(kind=\"bar\");"
   ]
  },
  {
   "cell_type": "code",
   "execution_count": 85,
   "metadata": {
    "scrolled": true
   },
   "outputs": [
    {
     "data": {
      "image/png": "[encoded data removed]",
      "text/plain": [
       "<Figure size 432x288 with 1 Axes>"
      ]
     },
     "metadata": {
      "needs_background": "light"
     },
     "output_type": "display_data"
    }
   ],
   "source": [
    "#And now by month\n",
    "ax = dates.dt.month.value_counts().sort_index().plot(kind=\"bar\");"
   ]
  },
  {
   "cell_type": "code",
   "execution_count": 86,
   "metadata": {},
   "outputs": [],
   "source": [
    "#No one month looks especially popular"
   ]
  },
  {
   "cell_type": "markdown",
   "metadata": {},
   "source": [
    "<a href=\"#back13\" name=\"13\">(↑)</a>   **loan_status**"
   ]
  },
  {
   "cell_type": "code",
   "execution_count": 87,
   "metadata": {},
   "outputs": [
    {
     "data": {
      "image/png": "[encoded data removed]",
      "text/plain": [
       "<Figure size 432x288 with 1 Axes>"
      ]
     },
     "metadata": {
      "needs_background": "light"
     },
     "output_type": "display_data"
    }
   ],
   "source": [
    "raw_data[\"loan_status\"].value_counts().plot(kind=\"bar\");"
   ]
  },
  {
   "cell_type": "markdown",
   "metadata": {},
   "source": [
    "<a href=\"#back14\" name=\"14\">(↑)</a>   **dti**"
   ]
  },
  {
   "cell_type": "code",
   "execution_count": 88,
   "metadata": {},
   "outputs": [
    {
     "data": {
      "image/png": "[encoded data removed]",
      "text/plain": [
       "<Figure size 432x288 with 1 Axes>"
      ]
     },
     "metadata": {
      "needs_background": "light"
     },
     "output_type": "display_data"
    }
   ],
   "source": [
    "raw_data['dti'].plot(kind=\"hist\", bins = 100);"
   ]
  },
  {
   "cell_type": "code",
   "execution_count": 89,
   "metadata": {},
   "outputs": [
    {
     "data": {
      "image/png": "[encoded data removed]",
      "text/plain": [
       "<Figure size 432x288 with 1 Axes>"
      ]
     },
     "metadata": {
      "needs_background": "light"
     },
     "output_type": "display_data"
    }
   ],
   "source": [
    "np.log10(raw_data['dti']+1).plot(kind=\"hist\", bins = 100);"
   ]
  },
  {
   "cell_type": "code",
   "execution_count": 90,
   "metadata": {},
   "outputs": [],
   "source": [
    "#After adjusting dti by annual_inc, we deal with the (high value) outliers in the lognormal distrobution. "
   ]
  },
  {
   "cell_type": "code",
   "execution_count": 91,
   "metadata": {},
   "outputs": [
    {
     "data": {
      "image/png": "[encoded data removed]",
      "text/plain": [
       "<Figure size 432x288 with 1 Axes>"
      ]
     },
     "metadata": {
      "needs_background": "light"
     },
     "output_type": "display_data"
    }
   ],
   "source": [
    "data['dti'].plot(kind=\"hist\", bins = 100);"
   ]
  },
  {
   "cell_type": "code",
   "execution_count": 92,
   "metadata": {},
   "outputs": [
    {
     "data": {
      "image/png": "[encoded data removed]",
      "text/plain": [
       "<Figure size 432x288 with 1 Axes>"
      ]
     },
     "metadata": {
      "needs_background": "light"
     },
     "output_type": "display_data"
    }
   ],
   "source": [
    "np.log10(data['dti']+1).plot(kind=\"hist\", bins = 100);"
   ]
  },
  {
   "cell_type": "code",
   "execution_count": 93,
   "metadata": {},
   "outputs": [],
   "source": [
    "# A few zeros make sense, for those with no other debts than the loan currently being taken out"
   ]
  },
  {
   "cell_type": "markdown",
   "metadata": {},
   "source": [
    "<a href=\"#back15\" name=\"15\">(↑)</a>   **revol_bal** "
   ]
  },
  {
   "cell_type": "code",
   "execution_count": 94,
   "metadata": {},
   "outputs": [
    {
     "data": {
      "image/png": "[encoded data removed]",
      "text/plain": [
       "<Figure size 432x288 with 1 Axes>"
      ]
     },
     "metadata": {
      "needs_background": "light"
     },
     "output_type": "display_data"
    }
   ],
   "source": [
    "raw_data['revol_bal'].plot(kind=\"hist\", bins = 100);"
   ]
  },
  {
   "cell_type": "code",
   "execution_count": 95,
   "metadata": {},
   "outputs": [
    {
     "data": {
      "image/png": "[encoded data removed]",
      "text/plain": [
       "<Figure size 432x288 with 1 Axes>"
      ]
     },
     "metadata": {
      "needs_background": "light"
     },
     "output_type": "display_data"
    }
   ],
   "source": [
    "np.log10(raw_data['revol_bal']+1).plot(kind=\"hist\", bins = 100);"
   ]
  },
  {
   "cell_type": "markdown",
   "metadata": {},
   "source": [
    "<a href=\"#back16\" name=\"16\">(↑)</a>   **total_pymnt**"
   ]
  },
  {
   "cell_type": "code",
   "execution_count": 96,
   "metadata": {},
   "outputs": [
    {
     "data": {
      "image/png": "[encoded data removed]",
      "text/plain": [
       "<Figure size 432x288 with 1 Axes>"
      ]
     },
     "metadata": {
      "needs_background": "light"
     },
     "output_type": "display_data"
    }
   ],
   "source": [
    "raw_data['total_pymnt'].plot(kind=\"hist\", bins = 100);"
   ]
  },
  {
   "cell_type": "code",
   "execution_count": 97,
   "metadata": {
    "scrolled": true
   },
   "outputs": [
    {
     "data": {
      "image/png": "[encoded data removed]",
      "text/plain": [
       "<Figure size 432x288 with 1 Axes>"
      ]
     },
     "metadata": {
      "needs_background": "light"
     },
     "output_type": "display_data"
    }
   ],
   "source": [
    "np.log10(raw_data['total_pymnt']+1).plot(kind=\"hist\", bins = 100);"
   ]
  },
  {
   "cell_type": "code",
   "execution_count": 98,
   "metadata": {},
   "outputs": [],
   "source": [
    "#It seems quite a few loans have not even begun to be repaid. "
   ]
  },
  {
   "cell_type": "code",
   "execution_count": 99,
   "metadata": {},
   "outputs": [],
   "source": [
    "#I'd like to consider the \"Percent Repaid\" of all loans."
   ]
  },
  {
   "cell_type": "code",
   "execution_count": 100,
   "metadata": {},
   "outputs": [
    {
     "data": {
      "image/png": "[encoded data removed]",
      "text/plain": [
       "<Figure size 432x288 with 1 Axes>"
      ]
     },
     "metadata": {
      "needs_background": "light"
     },
     "output_type": "display_data"
    }
   ],
   "source": [
    "(raw_data['total_pymnt']/(raw_data['loan_amnt']*(1+raw_data[\"int_rate\"]/100))).plot(kind=\"hist\", bins = 100);"
   ]
  },
  {
   "cell_type": "code",
   "execution_count": 101,
   "metadata": {},
   "outputs": [],
   "source": [
    "#It seems that some folks probably pay fees, and that there are some very common milestones where people \n",
    "#give up on their loans. "
   ]
  },
  {
   "cell_type": "markdown",
   "metadata": {},
   "source": [
    "<a href=\"#back17\" name=\"17\">(↑)</a>   **reduced_by**"
   ]
  },
  {
   "cell_type": "code",
   "execution_count": 102,
   "metadata": {
    "scrolled": true
   },
   "outputs": [
    {
     "data": {
      "image/png": "[encoded data removed]",
      "text/plain": [
       "<Figure size 432x288 with 1 Axes>"
      ]
     },
     "metadata": {
      "needs_background": "light"
     },
     "output_type": "display_data"
    }
   ],
   "source": [
    "data['reduced_by'].plot(kind=\"hist\", bins = 100);"
   ]
  },
  {
   "cell_type": "code",
   "execution_count": 103,
   "metadata": {},
   "outputs": [
    {
     "data": {
      "text/plain": [
       "0.9894303117162307"
      ]
     },
     "execution_count": 103,
     "metadata": {},
     "output_type": "execute_result"
    }
   ],
   "source": [
    "sum(data['reduced_by'] == 0)/len(data)"
   ]
  },
  {
   "cell_type": "code",
   "execution_count": 104,
   "metadata": {},
   "outputs": [],
   "source": [
    "#It seems the vast majority of loans are given for the amount requested"
   ]
  },
  {
   "cell_type": "code",
   "execution_count": 105,
   "metadata": {
    "scrolled": true
   },
   "outputs": [
    {
     "data": {
      "image/png": "[encoded data removed]",
      "text/plain": [
       "<Figure size 432x288 with 1 Axes>"
      ]
     },
     "metadata": {
      "needs_background": "light"
     },
     "output_type": "display_data"
    }
   ],
   "source": [
    "data[data['reduced_by'] > 0]['reduced_by'].plot(kind=\"hist\", bins = 100);"
   ]
  },
  {
   "cell_type": "code",
   "execution_count": 106,
   "metadata": {},
   "outputs": [],
   "source": [
    "#Of those loans which have their value reduced, the distribution is fairly normal"
   ]
  },
  {
   "cell_type": "markdown",
   "metadata": {},
   "source": [
    "### Further Data Cleaning"
   ]
  },
  {
   "cell_type": "markdown",
   "metadata": {},
   "source": [
    "<a href=\"#back18\" name=\"18\">(↑)</a>  Removal of loans with less than 36 months of data excludes almost 90% of loans"
   ]
  },
  {
   "cell_type": "code",
   "execution_count": 107,
   "metadata": {},
   "outputs": [
    {
     "data": {
      "text/plain": [
       "0.8919266739465325"
      ]
     },
     "execution_count": 107,
     "metadata": {},
     "output_type": "execute_result"
    }
   ],
   "source": [
    "sum((dates >=  pd.to_datetime(\"01/01/2013\"))*1)/len(dates)"
   ]
  },
  {
   "cell_type": "markdown",
   "metadata": {},
   "source": [
    "<a href=\"#back19\" name=\"19\">(↑)</a>  There are loans marked current, even in the cleaned data. Luckily, only 33"
   ]
  },
  {
   "cell_type": "code",
   "execution_count": 108,
   "metadata": {},
   "outputs": [
    {
     "data": {
      "text/plain": [
       "Fully Paid            63357\n",
       "Charged Off            9071\n",
       "Late (31-120 days)       81\n",
       "Current                  33\n",
       "Default                  12\n",
       "In Grace Period           6\n",
       "Late (16-30 days)         6\n",
       "Name: loan_status, dtype: int64"
      ]
     },
     "execution_count": 108,
     "metadata": {},
     "output_type": "execute_result"
    }
   ],
   "source": [
    "data[\"loan_status\"].value_counts()"
   ]
  },
  {
   "cell_type": "markdown",
   "metadata": {},
   "source": [
    "### Cohort with highest default rates"
   ]
  },
  {
   "cell_type": "code",
   "execution_count": 109,
   "metadata": {},
   "outputs": [],
   "source": [
    "sumarry = {}\n",
    "for g in set(data[\"grade\"]):\n",
    "    sumarry[g] = {}\n",
    "    for yr in set(data[\"issue_d\"].dt.year):\n",
    "        d = data[np.logical_and(data[\"grade\"] == g, data[\"issue_d\"].dt.year == yr)][\"defaulted\"]\n",
    "        if sum(d*1) > 0:\n",
    "            sumarry[g][yr] = round(100*sum(d*1)/len(d))\n",
    "        else:\n",
    "            sumarry[g][yr] = \"N/A\""
   ]
  },
  {
   "cell_type": "markdown",
   "metadata": {},
   "source": [
    "<a href=\"#back20\" name=\"20\">(↑)</a> G, 2008 has the highest rate of default (50%)"
   ]
  },
  {
   "cell_type": "code",
   "execution_count": 110,
   "metadata": {
    "scrolled": true
   },
   "outputs": [
    {
     "data": {
      "text/html": [
       "<div>\n",
       "<style scoped>\n",
       "    .dataframe tbody tr th:only-of-type {\n",
       "        vertical-align: middle;\n",
       "    }\n",
       "\n",
       "    .dataframe tbody tr th {\n",
       "        vertical-align: top;\n",
       "    }\n",
       "\n",
       "    .dataframe thead th {\n",
       "        text-align: right;\n",
       "    }\n",
       "</style>\n",
       "<table border=\"1\" class=\"dataframe\">\n",
       "  <thead>\n",
       "    <tr style=\"text-align: right;\">\n",
       "      <th></th>\n",
       "      <th>A</th>\n",
       "      <th>B</th>\n",
       "      <th>C</th>\n",
       "      <th>D</th>\n",
       "      <th>E</th>\n",
       "      <th>F</th>\n",
       "      <th>G</th>\n",
       "    </tr>\n",
       "  </thead>\n",
       "  <tbody>\n",
       "    <tr>\n",
       "      <th>2007</th>\n",
       "      <td>2</td>\n",
       "      <td>13</td>\n",
       "      <td>19</td>\n",
       "      <td>41</td>\n",
       "      <td>36</td>\n",
       "      <td>29</td>\n",
       "      <td>N/A</td>\n",
       "    </tr>\n",
       "    <tr>\n",
       "      <th>2008</th>\n",
       "      <td>6</td>\n",
       "      <td>15</td>\n",
       "      <td>18</td>\n",
       "      <td>24</td>\n",
       "      <td>16</td>\n",
       "      <td>48</td>\n",
       "      <td>50</td>\n",
       "    </tr>\n",
       "    <tr>\n",
       "      <th>2009</th>\n",
       "      <td>7</td>\n",
       "      <td>11</td>\n",
       "      <td>15</td>\n",
       "      <td>17</td>\n",
       "      <td>22</td>\n",
       "      <td>17</td>\n",
       "      <td>35</td>\n",
       "    </tr>\n",
       "    <tr>\n",
       "      <th>2010</th>\n",
       "      <td>4</td>\n",
       "      <td>9</td>\n",
       "      <td>13</td>\n",
       "      <td>16</td>\n",
       "      <td>19</td>\n",
       "      <td>31</td>\n",
       "      <td>37</td>\n",
       "    </tr>\n",
       "    <tr>\n",
       "      <th>2011</th>\n",
       "      <td>6</td>\n",
       "      <td>11</td>\n",
       "      <td>16</td>\n",
       "      <td>18</td>\n",
       "      <td>21</td>\n",
       "      <td>24</td>\n",
       "      <td>40</td>\n",
       "    </tr>\n",
       "    <tr>\n",
       "      <th>2012</th>\n",
       "      <td>7</td>\n",
       "      <td>13</td>\n",
       "      <td>18</td>\n",
       "      <td>21</td>\n",
       "      <td>22</td>\n",
       "      <td>18</td>\n",
       "      <td>17</td>\n",
       "    </tr>\n",
       "  </tbody>\n",
       "</table>\n",
       "</div>"
      ],
      "text/plain": [
       "      A   B   C   D   E   F    G\n",
       "2007  2  13  19  41  36  29  N/A\n",
       "2008  6  15  18  24  16  48   50\n",
       "2009  7  11  15  17  22  17   35\n",
       "2010  4   9  13  16  19  31   37\n",
       "2011  6  11  16  18  21  24   40\n",
       "2012  7  13  18  21  22  18   17"
      ]
     },
     "execution_count": 110,
     "metadata": {},
     "output_type": "execute_result"
    }
   ],
   "source": [
    "df = pd.DataFrame(sumarry)\n",
    "df = df.reindex(sorted(df.columns), axis=1)\n",
    "df"
   ]
  },
  {
   "cell_type": "code",
   "execution_count": 111,
   "metadata": {},
   "outputs": [],
   "source": [
    "sumarry = {}\n",
    "for g in set(data[\"grade\"]):\n",
    "    sumarry[g] = {}\n",
    "    for yr in set(data[\"issue_d\"].dt.year):\n",
    "        d = data[np.logical_and(data[\"grade\"] == g, data[\"issue_d\"].dt.year == yr)][\"defaulted\"]\n",
    "        if sum(d*1) > 0:\n",
    "            sumarry[g][yr] = len(d)\n",
    "        else:\n",
    "            sumarry[g][yr] = \"N/A\""
   ]
  },
  {
   "cell_type": "code",
   "execution_count": 112,
   "metadata": {},
   "outputs": [],
   "source": [
    "#There are, however, only 4 loans in that cohort"
   ]
  },
  {
   "cell_type": "code",
   "execution_count": 113,
   "metadata": {
    "scrolled": true
   },
   "outputs": [
    {
     "data": {
      "text/html": [
       "<div>\n",
       "<style scoped>\n",
       "    .dataframe tbody tr th:only-of-type {\n",
       "        vertical-align: middle;\n",
       "    }\n",
       "\n",
       "    .dataframe tbody tr th {\n",
       "        vertical-align: top;\n",
       "    }\n",
       "\n",
       "    .dataframe thead th {\n",
       "        text-align: right;\n",
       "    }\n",
       "</style>\n",
       "<table border=\"1\" class=\"dataframe\">\n",
       "  <thead>\n",
       "    <tr style=\"text-align: right;\">\n",
       "      <th></th>\n",
       "      <th>A</th>\n",
       "      <th>B</th>\n",
       "      <th>C</th>\n",
       "      <th>D</th>\n",
       "      <th>E</th>\n",
       "      <th>F</th>\n",
       "      <th>G</th>\n",
       "    </tr>\n",
       "  </thead>\n",
       "  <tbody>\n",
       "    <tr>\n",
       "      <th>2007</th>\n",
       "      <td>57</td>\n",
       "      <td>61</td>\n",
       "      <td>75</td>\n",
       "      <td>37</td>\n",
       "      <td>14</td>\n",
       "      <td>7</td>\n",
       "      <td>N/A</td>\n",
       "    </tr>\n",
       "    <tr>\n",
       "      <th>2008</th>\n",
       "      <td>295</td>\n",
       "      <td>507</td>\n",
       "      <td>438</td>\n",
       "      <td>222</td>\n",
       "      <td>75</td>\n",
       "      <td>21</td>\n",
       "      <td>4</td>\n",
       "    </tr>\n",
       "    <tr>\n",
       "      <th>2009</th>\n",
       "      <td>1178</td>\n",
       "      <td>1365</td>\n",
       "      <td>1193</td>\n",
       "      <td>657</td>\n",
       "      <td>236</td>\n",
       "      <td>64</td>\n",
       "      <td>23</td>\n",
       "    </tr>\n",
       "    <tr>\n",
       "      <th>2010</th>\n",
       "      <td>2541</td>\n",
       "      <td>2676</td>\n",
       "      <td>1840</td>\n",
       "      <td>1054</td>\n",
       "      <td>271</td>\n",
       "      <td>65</td>\n",
       "      <td>19</td>\n",
       "    </tr>\n",
       "    <tr>\n",
       "      <th>2011</th>\n",
       "      <td>5579</td>\n",
       "      <td>4722</td>\n",
       "      <td>2203</td>\n",
       "      <td>1261</td>\n",
       "      <td>272</td>\n",
       "      <td>54</td>\n",
       "      <td>10</td>\n",
       "    </tr>\n",
       "    <tr>\n",
       "      <th>2012</th>\n",
       "      <td>10753</td>\n",
       "      <td>16805</td>\n",
       "      <td>9902</td>\n",
       "      <td>5088</td>\n",
       "      <td>795</td>\n",
       "      <td>103</td>\n",
       "      <td>24</td>\n",
       "    </tr>\n",
       "  </tbody>\n",
       "</table>\n",
       "</div>"
      ],
      "text/plain": [
       "          A      B     C     D    E    F    G\n",
       "2007     57     61    75    37   14    7  N/A\n",
       "2008    295    507   438   222   75   21    4\n",
       "2009   1178   1365  1193   657  236   64   23\n",
       "2010   2541   2676  1840  1054  271   65   19\n",
       "2011   5579   4722  2203  1261  272   54   10\n",
       "2012  10753  16805  9902  5088  795  103   24"
      ]
     },
     "execution_count": 113,
     "metadata": {},
     "output_type": "execute_result"
    }
   ],
   "source": [
    "df = pd.DataFrame(sumarry)\n",
    "df = df.reindex(sorted(df.columns), axis=1)\n",
    "df"
   ]
  },
  {
   "cell_type": "code",
   "execution_count": 114,
   "metadata": {},
   "outputs": [],
   "source": [
    "#My instinct is to take a look at them, but there are no obvious anomalies. "
   ]
  },
  {
   "cell_type": "code",
   "execution_count": 115,
   "metadata": {
    "scrolled": true
   },
   "outputs": [
    {
     "data": {
      "text/html": [
       "<div>\n",
       "<style scoped>\n",
       "    .dataframe tbody tr th:only-of-type {\n",
       "        vertical-align: middle;\n",
       "    }\n",
       "\n",
       "    .dataframe tbody tr th {\n",
       "        vertical-align: top;\n",
       "    }\n",
       "\n",
       "    .dataframe thead th {\n",
       "        text-align: right;\n",
       "    }\n",
       "</style>\n",
       "<table border=\"1\" class=\"dataframe\">\n",
       "  <thead>\n",
       "    <tr style=\"text-align: right;\">\n",
       "      <th></th>\n",
       "      <th>funded_amnt</th>\n",
       "      <th>int_rate</th>\n",
       "      <th>grade</th>\n",
       "      <th>annual_inc</th>\n",
       "      <th>issue_d</th>\n",
       "      <th>loan_status</th>\n",
       "      <th>dti</th>\n",
       "      <th>revol_bal</th>\n",
       "      <th>total_pymnt</th>\n",
       "      <th>reduced_by</th>\n",
       "      <th>defaulted</th>\n",
       "    </tr>\n",
       "  </thead>\n",
       "  <tbody>\n",
       "    <tr>\n",
       "      <th>27563</th>\n",
       "      <td>24000.0</td>\n",
       "      <td>18.72</td>\n",
       "      <td>G</td>\n",
       "      <td>60000.0</td>\n",
       "      <td>2008-11-01</td>\n",
       "      <td>Charged Off</td>\n",
       "      <td>1188000.0</td>\n",
       "      <td>23555.0</td>\n",
       "      <td>2627.79</td>\n",
       "      <td>0.0</td>\n",
       "      <td>True</td>\n",
       "    </tr>\n",
       "    <tr>\n",
       "      <th>27588</th>\n",
       "      <td>12500.0</td>\n",
       "      <td>19.04</td>\n",
       "      <td>G</td>\n",
       "      <td>123000.0</td>\n",
       "      <td>2008-11-01</td>\n",
       "      <td>Charged Off</td>\n",
       "      <td>718320.0</td>\n",
       "      <td>13363.0</td>\n",
       "      <td>14025.37</td>\n",
       "      <td>0.0</td>\n",
       "      <td>True</td>\n",
       "    </tr>\n",
       "    <tr>\n",
       "      <th>28418</th>\n",
       "      <td>25000.0</td>\n",
       "      <td>17.34</td>\n",
       "      <td>G</td>\n",
       "      <td>96000.0</td>\n",
       "      <td>2008-03-01</td>\n",
       "      <td>Fully Paid</td>\n",
       "      <td>1804800.0</td>\n",
       "      <td>14706.0</td>\n",
       "      <td>32593.79</td>\n",
       "      <td>0.0</td>\n",
       "      <td>False</td>\n",
       "    </tr>\n",
       "    <tr>\n",
       "      <th>28749</th>\n",
       "      <td>13875.0</td>\n",
       "      <td>18.36</td>\n",
       "      <td>G</td>\n",
       "      <td>84000.0</td>\n",
       "      <td>2008-01-01</td>\n",
       "      <td>Fully Paid</td>\n",
       "      <td>1935360.0</td>\n",
       "      <td>24280.0</td>\n",
       "      <td>18061.74</td>\n",
       "      <td>10750.0</td>\n",
       "      <td>False</td>\n",
       "    </tr>\n",
       "  </tbody>\n",
       "</table>\n",
       "</div>"
      ],
      "text/plain": [
       "       funded_amnt  int_rate grade  annual_inc    issue_d  loan_status  \\\n",
       "27563      24000.0     18.72     G     60000.0 2008-11-01  Charged Off   \n",
       "27588      12500.0     19.04     G    123000.0 2008-11-01  Charged Off   \n",
       "28418      25000.0     17.34     G     96000.0 2008-03-01   Fully Paid   \n",
       "28749      13875.0     18.36     G     84000.0 2008-01-01   Fully Paid   \n",
       "\n",
       "             dti  revol_bal  total_pymnt  reduced_by  defaulted  \n",
       "27563  1188000.0    23555.0      2627.79         0.0       True  \n",
       "27588   718320.0    13363.0     14025.37         0.0       True  \n",
       "28418  1804800.0    14706.0     32593.79         0.0      False  \n",
       "28749  1935360.0    24280.0     18061.74     10750.0      False  "
      ]
     },
     "execution_count": 115,
     "metadata": {},
     "output_type": "execute_result"
    }
   ],
   "source": [
    "data[np.logical_and(data[\"grade\"] == \"G\",data[\"issue_d\"].dt.year == 2008)]"
   ]
  },
  {
   "cell_type": "markdown",
   "metadata": {},
   "source": [
    "### Annualized Rate of Return"
   ]
  },
  {
   "cell_type": "code",
   "execution_count": 116,
   "metadata": {},
   "outputs": [],
   "source": [
    "sumarry = {}\n",
    "for g in set(data[\"grade\"]):\n",
    "    sumarry[g] = {}\n",
    "    for yr in set(data[\"issue_d\"].dt.year):\n",
    "        tp = data[np.logical_and(data[\"grade\"] == g, data[\"issue_d\"].dt.year == yr)][\"total_pymnt\"]\n",
    "        fa = data[np.logical_and(data[\"grade\"] == g, data[\"issue_d\"].dt.year == yr)][\"funded_amnt\"]\n",
    "        if len(tp) > 0:\n",
    "            sumarry[g][yr] = str(round(np.std(annualized_ror(tp,fa)),2))\n",
    "        else:\n",
    "            sumarry[g][yr] = \"N/A\"\n",
    "        "
   ]
  },
  {
   "cell_type": "markdown",
   "metadata": {},
   "source": [
    "<a href=\"#back21\" name=\"21\">(↑)</a> The STD of the annualized rate of return varies between cohorts"
   ]
  },
  {
   "cell_type": "code",
   "execution_count": 117,
   "metadata": {},
   "outputs": [
    {
     "data": {
      "text/html": [
       "<style  type=\"text/css\" >\n",
       "</style><table id=\"T_8ae2bfe6_0e96_11eb_8387_985aeb8c3d36\" ><caption>STD of the Annualized Rate of Return by Year of Origination, Grade</caption><thead>    <tr>        <th class=\"blank level0\" ></th>        <th class=\"col_heading level0 col0\" >A</th>        <th class=\"col_heading level0 col1\" >B</th>        <th class=\"col_heading level0 col2\" >C</th>        <th class=\"col_heading level0 col3\" >D</th>        <th class=\"col_heading level0 col4\" >E</th>        <th class=\"col_heading level0 col5\" >F</th>        <th class=\"col_heading level0 col6\" >G</th>    </tr></thead><tbody>\n",
       "                <tr>\n",
       "                        <th id=\"T_8ae2bfe6_0e96_11eb_8387_985aeb8c3d36level0_row0\" class=\"row_heading level0 row0\" >2007</th>\n",
       "                        <td id=\"T_8ae2bfe6_0e96_11eb_8387_985aeb8c3d36row0_col0\" class=\"data row0 col0\" >0.03</td>\n",
       "                        <td id=\"T_8ae2bfe6_0e96_11eb_8387_985aeb8c3d36row0_col1\" class=\"data row0 col1\" >0.09</td>\n",
       "                        <td id=\"T_8ae2bfe6_0e96_11eb_8387_985aeb8c3d36row0_col2\" class=\"data row0 col2\" >0.1</td>\n",
       "                        <td id=\"T_8ae2bfe6_0e96_11eb_8387_985aeb8c3d36row0_col3\" class=\"data row0 col3\" >0.13</td>\n",
       "                        <td id=\"T_8ae2bfe6_0e96_11eb_8387_985aeb8c3d36row0_col4\" class=\"data row0 col4\" >0.12</td>\n",
       "                        <td id=\"T_8ae2bfe6_0e96_11eb_8387_985aeb8c3d36row0_col5\" class=\"data row0 col5\" >0.08</td>\n",
       "                        <td id=\"T_8ae2bfe6_0e96_11eb_8387_985aeb8c3d36row0_col6\" class=\"data row0 col6\" >N/A</td>\n",
       "            </tr>\n",
       "            <tr>\n",
       "                        <th id=\"T_8ae2bfe6_0e96_11eb_8387_985aeb8c3d36level0_row1\" class=\"row_heading level0 row1\" >2008</th>\n",
       "                        <td id=\"T_8ae2bfe6_0e96_11eb_8387_985aeb8c3d36row1_col0\" class=\"data row1 col0\" >0.05</td>\n",
       "                        <td id=\"T_8ae2bfe6_0e96_11eb_8387_985aeb8c3d36row1_col1\" class=\"data row1 col1\" >0.11</td>\n",
       "                        <td id=\"T_8ae2bfe6_0e96_11eb_8387_985aeb8c3d36row1_col2\" class=\"data row1 col2\" >0.12</td>\n",
       "                        <td id=\"T_8ae2bfe6_0e96_11eb_8387_985aeb8c3d36row1_col3\" class=\"data row1 col3\" >0.16</td>\n",
       "                        <td id=\"T_8ae2bfe6_0e96_11eb_8387_985aeb8c3d36row1_col4\" class=\"data row1 col4\" >0.12</td>\n",
       "                        <td id=\"T_8ae2bfe6_0e96_11eb_8387_985aeb8c3d36row1_col5\" class=\"data row1 col5\" >0.2</td>\n",
       "                        <td id=\"T_8ae2bfe6_0e96_11eb_8387_985aeb8c3d36row1_col6\" class=\"data row1 col6\" >0.26</td>\n",
       "            </tr>\n",
       "            <tr>\n",
       "                        <th id=\"T_8ae2bfe6_0e96_11eb_8387_985aeb8c3d36level0_row2\" class=\"row_heading level0 row2\" >2009</th>\n",
       "                        <td id=\"T_8ae2bfe6_0e96_11eb_8387_985aeb8c3d36row2_col0\" class=\"data row2 col0\" >0.07</td>\n",
       "                        <td id=\"T_8ae2bfe6_0e96_11eb_8387_985aeb8c3d36row2_col1\" class=\"data row2 col1\" >0.12</td>\n",
       "                        <td id=\"T_8ae2bfe6_0e96_11eb_8387_985aeb8c3d36row2_col2\" class=\"data row2 col2\" >0.14</td>\n",
       "                        <td id=\"T_8ae2bfe6_0e96_11eb_8387_985aeb8c3d36row2_col3\" class=\"data row2 col3\" >0.13</td>\n",
       "                        <td id=\"T_8ae2bfe6_0e96_11eb_8387_985aeb8c3d36row2_col4\" class=\"data row2 col4\" >0.17</td>\n",
       "                        <td id=\"T_8ae2bfe6_0e96_11eb_8387_985aeb8c3d36row2_col5\" class=\"data row2 col5\" >0.1</td>\n",
       "                        <td id=\"T_8ae2bfe6_0e96_11eb_8387_985aeb8c3d36row2_col6\" class=\"data row2 col6\" >0.15</td>\n",
       "            </tr>\n",
       "            <tr>\n",
       "                        <th id=\"T_8ae2bfe6_0e96_11eb_8387_985aeb8c3d36level0_row3\" class=\"row_heading level0 row3\" >2010</th>\n",
       "                        <td id=\"T_8ae2bfe6_0e96_11eb_8387_985aeb8c3d36row3_col0\" class=\"data row3 col0\" >0.05</td>\n",
       "                        <td id=\"T_8ae2bfe6_0e96_11eb_8387_985aeb8c3d36row3_col1\" class=\"data row3 col1\" >0.09</td>\n",
       "                        <td id=\"T_8ae2bfe6_0e96_11eb_8387_985aeb8c3d36row3_col2\" class=\"data row3 col2\" >0.11</td>\n",
       "                        <td id=\"T_8ae2bfe6_0e96_11eb_8387_985aeb8c3d36row3_col3\" class=\"data row3 col3\" >0.13</td>\n",
       "                        <td id=\"T_8ae2bfe6_0e96_11eb_8387_985aeb8c3d36row3_col4\" class=\"data row3 col4\" >0.14</td>\n",
       "                        <td id=\"T_8ae2bfe6_0e96_11eb_8387_985aeb8c3d36row3_col5\" class=\"data row3 col5\" >0.18</td>\n",
       "                        <td id=\"T_8ae2bfe6_0e96_11eb_8387_985aeb8c3d36row3_col6\" class=\"data row3 col6\" >0.18</td>\n",
       "            </tr>\n",
       "            <tr>\n",
       "                        <th id=\"T_8ae2bfe6_0e96_11eb_8387_985aeb8c3d36level0_row4\" class=\"row_heading level0 row4\" >2011</th>\n",
       "                        <td id=\"T_8ae2bfe6_0e96_11eb_8387_985aeb8c3d36row4_col0\" class=\"data row4 col0\" >0.07</td>\n",
       "                        <td id=\"T_8ae2bfe6_0e96_11eb_8387_985aeb8c3d36row4_col1\" class=\"data row4 col1\" >0.09</td>\n",
       "                        <td id=\"T_8ae2bfe6_0e96_11eb_8387_985aeb8c3d36row4_col2\" class=\"data row4 col2\" >0.12</td>\n",
       "                        <td id=\"T_8ae2bfe6_0e96_11eb_8387_985aeb8c3d36row4_col3\" class=\"data row4 col3\" >0.13</td>\n",
       "                        <td id=\"T_8ae2bfe6_0e96_11eb_8387_985aeb8c3d36row4_col4\" class=\"data row4 col4\" >0.14</td>\n",
       "                        <td id=\"T_8ae2bfe6_0e96_11eb_8387_985aeb8c3d36row4_col5\" class=\"data row4 col5\" >0.14</td>\n",
       "                        <td id=\"T_8ae2bfe6_0e96_11eb_8387_985aeb8c3d36row4_col6\" class=\"data row4 col6\" >0.17</td>\n",
       "            </tr>\n",
       "            <tr>\n",
       "                        <th id=\"T_8ae2bfe6_0e96_11eb_8387_985aeb8c3d36level0_row5\" class=\"row_heading level0 row5\" >2012</th>\n",
       "                        <td id=\"T_8ae2bfe6_0e96_11eb_8387_985aeb8c3d36row5_col0\" class=\"data row5 col0\" >0.08</td>\n",
       "                        <td id=\"T_8ae2bfe6_0e96_11eb_8387_985aeb8c3d36row5_col1\" class=\"data row5 col1\" >0.1</td>\n",
       "                        <td id=\"T_8ae2bfe6_0e96_11eb_8387_985aeb8c3d36row5_col2\" class=\"data row5 col2\" >0.12</td>\n",
       "                        <td id=\"T_8ae2bfe6_0e96_11eb_8387_985aeb8c3d36row5_col3\" class=\"data row5 col3\" >0.13</td>\n",
       "                        <td id=\"T_8ae2bfe6_0e96_11eb_8387_985aeb8c3d36row5_col4\" class=\"data row5 col4\" >0.14</td>\n",
       "                        <td id=\"T_8ae2bfe6_0e96_11eb_8387_985aeb8c3d36row5_col5\" class=\"data row5 col5\" >0.15</td>\n",
       "                        <td id=\"T_8ae2bfe6_0e96_11eb_8387_985aeb8c3d36row5_col6\" class=\"data row5 col6\" >0.15</td>\n",
       "            </tr>\n",
       "    </tbody></table>"
      ],
      "text/plain": [
       "<pandas.io.formats.style.Styler at 0x127c62490>"
      ]
     },
     "execution_count": 117,
     "metadata": {},
     "output_type": "execute_result"
    }
   ],
   "source": [
    "df = pd.DataFrame(sumarry)\n",
    "df = df.reindex(sorted(df.columns), axis=1)\n",
    "df.style.set_caption(\"STD of the Annualized Rate of Return by Year of Origination, Grade\")"
   ]
  },
  {
   "cell_type": "markdown",
   "metadata": {},
   "source": [
    "## Part 2"
   ]
  },
  {
   "cell_type": "markdown",
   "metadata": {},
   "source": [
    "### Step 1"
   ]
  },
  {
   "cell_type": "markdown",
   "metadata": {},
   "source": [
    "<a href=\"#back22\" name=\"22\">(↑)</a> Should I separate or normalize by year? Because Default rates drop by half over the period from 2007 to 2010, it seems to me that year plays a large role in default rate. "
   ]
  },
  {
   "cell_type": "code",
   "execution_count": 118,
   "metadata": {
    "scrolled": true
   },
   "outputs": [
    {
     "data": {
      "image/png": "[encoded data removed]",
      "text/plain": [
       "<Figure size 432x288 with 1 Axes>"
      ]
     },
     "metadata": {
      "needs_background": "light"
     },
     "output_type": "display_data"
    }
   ],
   "source": [
    "#I've added the STD just to get a sense for how it changes\n",
    "avg_by_year = data.groupby(data[\"issue_d\"].dt.year)[\"defaulted\"].mean()\n",
    "std_by_year = data.groupby(data[\"issue_d\"].dt.year)[\"defaulted\"].std()*.05\n",
    "plt.plot(avg_by_year);\n",
    "plt.fill_between(range(2007,2013), avg_by_year-std_by_year, avg_by_year+std_by_year, alpha=.3);"
   ]
  },
  {
   "cell_type": "code",
   "execution_count": 119,
   "metadata": {},
   "outputs": [
    {
     "data": {
      "image/png": "[encoded data removed]",
      "text/plain": [
       "<Figure size 432x288 with 1 Axes>"
      ]
     },
     "metadata": {
      "needs_background": "light"
     },
     "output_type": "display_data"
    }
   ],
   "source": [
    "avg_by_month = data.groupby(\"issue_d\")[\"defaulted\"].mean()\n",
    "std_by_month = data.groupby(\"issue_d\")[\"defaulted\"].std()*.05\n",
    "plt.plot(avg_by_month);\n",
    "plt.fill_between(avg_by_month.keys(), avg_by_month-std_by_month, avg_by_month+std_by_month, alpha=.3);"
   ]
  },
  {
   "cell_type": "code",
   "execution_count": 120,
   "metadata": {},
   "outputs": [],
   "source": [
    "#It seems there's probably too much variation to use the last month's default rate, for example, in the regression\n",
    "#usefully. And current month might allow too much \"peeking\""
   ]
  },
  {
   "cell_type": "markdown",
   "metadata": {},
   "source": [
    "<a href=\"#back23\" name=\"23\">(↑)</a> Later years have way more loans than earlier years"
   ]
  },
  {
   "cell_type": "code",
   "execution_count": 121,
   "metadata": {
    "scrolled": true
   },
   "outputs": [
    {
     "data": {
      "text/plain": [
       "<matplotlib.axes._subplots.AxesSubplot at 0x12bcab070>"
      ]
     },
     "execution_count": 121,
     "metadata": {},
     "output_type": "execute_result"
    },
    {
     "data": {
      "image/png": "[encoded data removed]",
      "text/plain": [
       "<Figure size 432x288 with 1 Axes>"
      ]
     },
     "metadata": {
      "needs_background": "light"
     },
     "output_type": "display_data"
    }
   ],
   "source": [
    "data[\"issue_d\"].dt.year.plot(kind=\"hist\")"
   ]
  },
  {
   "cell_type": "markdown",
   "metadata": {},
   "source": [
    "### Step 2"
   ]
  },
  {
   "cell_type": "markdown",
   "metadata": {},
   "source": [
    "<a href=\"#back24\" name=\"24\">(↑)</a> Should loan amount be discretized?"
   ]
  },
  {
   "cell_type": "code",
   "execution_count": 122,
   "metadata": {},
   "outputs": [],
   "source": [
    "Xtrain_experimental = pd.concat((Xtrain, pd.get_dummies(\n",
    "    pd.cut(Xtrain[\"funded_amnt\"],range(0,36000,1000)),prefix=\"funded\")),axis=1).drop(\"funded_amnt\",axis=1)\n",
    "Xvalidate_experimental = pd.concat((Xvalidate, pd.get_dummies(\n",
    "    pd.cut(Xvalidate[\"funded_amnt\"],range(0,36000,1000)),prefix=\"funded\")),axis=1).drop(\"funded_amnt\",axis=1)"
   ]
  },
  {
   "cell_type": "code",
   "execution_count": 123,
   "metadata": {},
   "outputs": [
    {
     "data": {
      "text/plain": [
       "<sklearn.metrics._plot.roc_curve.RocCurveDisplay at 0x12bc91be0>"
      ]
     },
     "metadata": {},
     "output_type": "display_data"
    },
    {
     "data": {
      "text/plain": [
       "{'AUC': 0.551772294152973, 'Mean_Accuracy': 0.6763139931740614}"
      ]
     },
     "execution_count": 123,
     "metadata": {},
     "output_type": "execute_result"
    },
    {
     "data": {
      "image/png": "[encoded data removed]",
      "text/plain": [
       "<Figure size 432x288 with 1 Axes>"
      ]
     },
     "metadata": {
      "needs_background": "light"
     },
     "output_type": "display_data"
    }
   ],
   "source": [
    "clf = LogisticRegression(class_weight = 'balanced').fit(Xtrain_experimental, ytrain.to_numpy().T[0])\n",
    "roc_auc(clf, Xvalidate_experimental,yvalidate)"
   ]
  },
  {
   "cell_type": "markdown",
   "metadata": {},
   "source": [
    "<a href=\"#back25\" name=\"25\">(↑)</a> Should I remove int_rate because of it's correlation with grade?"
   ]
  },
  {
   "cell_type": "code",
   "execution_count": 124,
   "metadata": {},
   "outputs": [],
   "source": [
    "Xtrain_experimental = Xtrain.drop(\"int_rate\",axis=1)\n",
    "Xvalidate_experimental = Xvalidate.drop(\"int_rate\",axis=1)"
   ]
  },
  {
   "cell_type": "code",
   "execution_count": 125,
   "metadata": {},
   "outputs": [
    {
     "data": {
      "text/plain": [
       "<sklearn.metrics._plot.roc_curve.RocCurveDisplay at 0x1280e51f0>"
      ]
     },
     "metadata": {},
     "output_type": "display_data"
    },
    {
     "data": {
      "text/plain": [
       "{'AUC': 0.5801570351693492, 'Mean_Accuracy': 0.6091467576791809}"
      ]
     },
     "execution_count": 125,
     "metadata": {},
     "output_type": "execute_result"
    },
    {
     "data": {
      "image/png": "[encoded data removed]",
      "text/plain": [
       "<Figure size 432x288 with 1 Axes>"
      ]
     },
     "metadata": {
      "needs_background": "light"
     },
     "output_type": "display_data"
    }
   ],
   "source": [
    "clf = LogisticRegression(class_weight = 'balanced').fit(Xtrain_experimental, ytrain.to_numpy().T[0])\n",
    "roc_auc(clf, Xvalidate_experimental,yvalidate)"
   ]
  },
  {
   "cell_type": "markdown",
   "metadata": {},
   "source": [
    "<a href=\"#back27\" name=\"27\">(↑)</a> Should I take the log of the lognormal distributions?"
   ]
  },
  {
   "cell_type": "code",
   "execution_count": 126,
   "metadata": {},
   "outputs": [],
   "source": [
    "Xtrain_experimental[\"annual_inc\"] =  np.log10(Xtrain[\"annual_inc\"] + 1)\n",
    "Xtrain_experimental[\"dti\"] =  np.log10(Xtrain[\"dti\"] + 1)\n",
    "Xtrain_experimental[\"revol_bal\"] =  np.log10(Xtrain[\"revol_bal\"] + 1)\n",
    "\n",
    "Xvalidate_experimental[\"annual_inc\"] =  np.log10(Xvalidate[\"annual_inc\"] + 1)\n",
    "Xvalidate_experimental[\"dti\"] =  np.log10(Xvalidate[\"dti\"] + 1)\n",
    "Xvalidate_experimental[\"revol_bal\"] =  np.log10(Xvalidate[\"revol_bal\"] + 1)"
   ]
  },
  {
   "cell_type": "code",
   "execution_count": 127,
   "metadata": {},
   "outputs": [
    {
     "data": {
      "text/plain": [
       "<sklearn.metrics._plot.roc_curve.RocCurveDisplay at 0x12bc91820>"
      ]
     },
     "metadata": {},
     "output_type": "display_data"
    },
    {
     "data": {
      "text/plain": [
       "{'AUC': 0.5583079179810397, 'Mean_Accuracy': 0.8774061433447099}"
      ]
     },
     "execution_count": 127,
     "metadata": {},
     "output_type": "execute_result"
    },
    {
     "data": {
      "image/png": "[encoded data removed]",
      "text/plain": [
       "<Figure size 432x288 with 1 Axes>"
      ]
     },
     "metadata": {
      "needs_background": "light"
     },
     "output_type": "display_data"
    }
   ],
   "source": [
    "clf = LogisticRegression().fit(Xtrain_experimental, ytrain.to_numpy().T[0])\n",
    "roc_auc(clf, Xvalidate_experimental,yvalidate)"
   ]
  },
  {
   "cell_type": "markdown",
   "metadata": {},
   "source": [
    "<a href=\"#back28\" name=\"28\">(↑)</a> Should I add month?"
   ]
  },
  {
   "cell_type": "code",
   "execution_count": 128,
   "metadata": {},
   "outputs": [],
   "source": [
    "Xtrain_experimental = Xtrain.merge(\n",
    "    pd.get_dummies(data[\"issue_d\"].dt.month),left_index=True, right_index=True)\n",
    "Xvalidate_experimental = Xvalidate.merge(\n",
    "    pd.get_dummies(data[\"issue_d\"].dt.month),left_index=True, right_index=True)"
   ]
  },
  {
   "cell_type": "code",
   "execution_count": 129,
   "metadata": {},
   "outputs": [
    {
     "data": {
      "text/plain": [
       "<sklearn.metrics._plot.roc_curve.RocCurveDisplay at 0x127c8e310>"
      ]
     },
     "metadata": {},
     "output_type": "display_data"
    },
    {
     "data": {
      "text/plain": [
       "{'AUC': 0.5801585945705807, 'Mean_Accuracy': 0.609283276450512}"
      ]
     },
     "execution_count": 129,
     "metadata": {},
     "output_type": "execute_result"
    },
    {
     "data": {
      "image/png": "[encoded data removed]",
      "text/plain": [
       "<Figure size 432x288 with 1 Axes>"
      ]
     },
     "metadata": {
      "needs_background": "light"
     },
     "output_type": "display_data"
    }
   ],
   "source": [
    "clf = LogisticRegression(class_weight = 'balanced').fit(Xtrain_experimental, ytrain.to_numpy().T[0])\n",
    "roc_auc(clf, Xvalidate_experimental,yvalidate)"
   ]
  },
  {
   "cell_type": "markdown",
   "metadata": {},
   "source": [
    "<a href=\"#back29\" name=\"29\">(↑)</a> Should I keep reduced_by?"
   ]
  },
  {
   "cell_type": "code",
   "execution_count": 130,
   "metadata": {},
   "outputs": [],
   "source": [
    "Xtrain_experimental = Xtrain.drop(\"reduced_by\",axis=1)\n",
    "Xvalidate_experimental = Xvalidate.drop(\"reduced_by\",axis=1)"
   ]
  },
  {
   "cell_type": "code",
   "execution_count": 131,
   "metadata": {},
   "outputs": [
    {
     "data": {
      "text/plain": [
       "<sklearn.metrics._plot.roc_curve.RocCurveDisplay at 0x129762c40>"
      ]
     },
     "metadata": {},
     "output_type": "display_data"
    },
    {
     "data": {
      "text/plain": [
       "{'AUC': 0.5801584213037773, 'Mean_Accuracy': 0.6090102389078498}"
      ]
     },
     "execution_count": 131,
     "metadata": {},
     "output_type": "execute_result"
    },
    {
     "data": {
      "image/png": "[encoded data removed]",
      "text/plain": [
       "<Figure size 432x288 with 1 Axes>"
      ]
     },
     "metadata": {
      "needs_background": "light"
     },
     "output_type": "display_data"
    }
   ],
   "source": [
    "clf = LogisticRegression(class_weight = 'balanced').fit(Xtrain_experimental, ytrain.to_numpy().T[0])\n",
    "roc_auc(clf, Xvalidate_experimental,yvalidate)"
   ]
  },
  {
   "cell_type": "markdown",
   "metadata": {},
   "source": [
    "<a href=\"#back30\" name=\"30\">(↑)</a> Will regularization help?"
   ]
  },
  {
   "cell_type": "code",
   "execution_count": 132,
   "metadata": {},
   "outputs": [
    {
     "data": {
      "text/plain": [
       "{'AUC': 0.5801585945705807, 'Mean_Accuracy': 0.609283276450512}"
      ]
     },
     "execution_count": 132,
     "metadata": {},
     "output_type": "execute_result"
    }
   ],
   "source": [
    "baseline"
   ]
  },
  {
   "cell_type": "code",
   "execution_count": 133,
   "metadata": {},
   "outputs": [
    {
     "data": {
      "text/plain": [
       "<sklearn.metrics._plot.roc_curve.RocCurveDisplay at 0x12bc8f3a0>"
      ]
     },
     "metadata": {},
     "output_type": "display_data"
    },
    {
     "data": {
      "text/plain": [
       "{'AUC': 0.6574095989116072, 'Mean_Accuracy': 0.5724232081911262}"
      ]
     },
     "execution_count": 133,
     "metadata": {},
     "output_type": "execute_result"
    },
    {
     "data": {
      "image/png": "[encoded data removed]",
      "text/plain": [
       "<Figure size 432x288 with 1 Axes>"
      ]
     },
     "metadata": {
      "needs_background": "light"
     },
     "output_type": "display_data"
    }
   ],
   "source": [
    "clf = LogisticRegression(\n",
    "    class_weight = 'balanced', penalty='l1', solver=\"liblinear\").fit(Xtrain, ytrain.to_numpy().T[0])\n",
    "roc_auc(clf, Xvalidate,yvalidate)"
   ]
  },
  {
   "cell_type": "code",
   "execution_count": 134,
   "metadata": {
    "scrolled": true
   },
   "outputs": [
    {
     "data": {
      "text/plain": [
       "<sklearn.metrics._plot.roc_curve.RocCurveDisplay at 0x127e6a8e0>"
      ]
     },
     "metadata": {},
     "output_type": "display_data"
    },
    {
     "data": {
      "text/plain": [
       "{'AUC': 0.6497784090850023, 'Mean_Accuracy': 0.5138566552901024}"
      ]
     },
     "execution_count": 134,
     "metadata": {},
     "output_type": "execute_result"
    },
    {
     "data": {
      "image/png": "[encoded data removed]",
      "text/plain": [
       "<Figure size 432x288 with 1 Axes>"
      ]
     },
     "metadata": {
      "needs_background": "light"
     },
     "output_type": "display_data"
    }
   ],
   "source": [
    "clf = LogisticRegression(class_weight = 'balanced', penalty='l2', solver=\"liblinear\").fit(Xtrain, ytrain.to_numpy().T[0])\n",
    "roc_auc(clf, Xvalidate,yvalidate)"
   ]
  },
  {
   "cell_type": "code",
   "execution_count": 135,
   "metadata": {},
   "outputs": [],
   "source": [
    "# I hadn't fully considered that changing the solver also changes the solution. Given more time, I would go\n",
    "#back to the basics to find out why we get different results under the hood.\n",
    "#clf = LogisticRegression(class_weight = 'balanced', solver=\"newton-cg\").fit(Xtrain, ytrain.to_numpy().T[0])\n",
    "#roc_auc(clf, Xvalidate,yvalidate)"
   ]
  },
  {
   "cell_type": "markdown",
   "metadata": {},
   "source": [
    "### Step 3"
   ]
  },
  {
   "cell_type": "markdown",
   "metadata": {},
   "source": [
    "<a href=\"#back31\" name=\"31\">(↑)</a> A function for finding the new default percentage and the number of loans thrown away"
   ]
  },
  {
   "cell_type": "code",
   "execution_count": 136,
   "metadata": {},
   "outputs": [],
   "source": [
    "def improvement(goal_tpr,probabilities,y):\n",
    "    #In the test set, there are 936 loans which default\n",
    "    total_default = sum(1*y.to_numpy())[0]\n",
    "    #out of 7465 loans\n",
    "    total_loans = len(1*y.to_numpy())\n",
    "    \n",
    "\n",
    "    fpr, tpr, thresholds = metrics.roc_curve(y, probabilities)\n",
    "    \n",
    "    index = [i for i,j in enumerate(tpr >= goal_tpr) if j][0]\n",
    "    \n",
    "    #We will have to remove 2466 loans (with tpr=.5 in the test set)\n",
    "    total_flagged_loans = sum(1*(probabilities > thresholds[index]))\n",
    "    \n",
    "    #Of those, 467 will be defaults\n",
    "    flagged_loans_default = sum(1*y[probabilities > thresholds[index]].to_numpy())\n",
    "    \n",
    "    #And 1999 will be good loans\n",
    "    flagged_loans_fully_paid = sum(-1*(y[probabilities > thresholds[index]].to_numpy()-1))\n",
    "    \n",
    "    #Our new default percentage will be\n",
    "    new_default_percent = round(\n",
    "                (100*(total_default-flagged_loans_default)/(total_loans - total_flagged_loans)).item(),2)\n",
    "    \n",
    "    #But, we rejected this many loans\n",
    "    loans_rejected_percent = round(\n",
    "                (100*(total_flagged_loans)/(total_loans)).item(),2)\n",
    "    \n",
    "    return {\"default_percent\":new_default_percent, \"rejected_percent\":loans_rejected_percent}"
   ]
  }
 ],
 "metadata": {
  "kernelspec": {
   "display_name": "Python 3",
   "language": "python",
   "name": "python3"
  },
  "language_info": {
   "codemirror_mode": {
    "name": "ipython",
    "version": 3
   },
   "file_extension": ".py",
   "mimetype": "text/x-python",
   "name": "python",
   "nbconvert_exporter": "python",
   "pygments_lexer": "ipython3",
   "version": "3.8.5"
  }
 },
 "nbformat": 4,
 "nbformat_minor": 4
}
